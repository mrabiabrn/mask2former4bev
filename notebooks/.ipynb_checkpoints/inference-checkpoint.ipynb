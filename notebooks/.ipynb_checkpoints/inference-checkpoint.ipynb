{
 "cells": [
  {
   "cell_type": "code",
   "execution_count": 1,
   "metadata": {},
   "outputs": [],
   "source": [
    "%load_ext autoreload\n",
    "%autoreload 2"
   ]
  },
  {
   "cell_type": "code",
   "execution_count": 2,
   "metadata": {
    "scrolled": true
   },
   "outputs": [
    {
     "name": "stderr",
     "output_type": "stream",
     "text": [
      "/kuacc/users/mbarin22/.conda/envs/mask2former/lib/python3.8/site-packages/tqdm/auto.py:21: TqdmWarning: IProgress not found. Please update jupyter and ipywidgets. See https://ipywidgets.readthedocs.io/en/stable/user_install.html\n",
      "  from .autonotebook import tqdm as notebook_tqdm\n"
     ]
    }
   ],
   "source": [
    "import sys\n",
    "import matplotlib.pyplot as plt\n",
    "import torch\n",
    "from collections import OrderedDict\n",
    "sys.path.append('..')\n",
    "import utils\n"
   ]
  },
  {
   "cell_type": "code",
   "execution_count": 3,
   "metadata": {},
   "outputs": [],
   "source": [
    "class Arguments:\n",
    "\n",
    "    def __init__(self):\n",
    "        \n",
    "        self.project = 'mask2former4bev'\n",
    "        self.model_name = 'mask2former4bev'\n",
    "        self.dataset_path = '/datasets/nuscenes'\n",
    "        self.version = 'trainval'\n",
    "\n",
    "        # write all the parameters like above\n",
    "        self.res_scale = 1\n",
    "        self.H = 1600\n",
    "        self.W = 900\n",
    "        self.rand_crop_and_resize = 0\n",
    "        \n",
    "        self.resize_to = [448,800]\n",
    "        self.crop_offset = 0\n",
    "        self.random_flip = 0\n",
    "        self.resize_lim = [1.0, 1.0]\n",
    "        self.cams = ['CAM_FRONT_LEFT', 'CAM_FRONT', 'CAM_FRONT_RIGHT', 'CAM_BACK_LEFT', 'CAM_BACK', 'CAM_BACK_RIGHT']\n",
    "        self.ncams = 6\n",
    "\n",
    "        self.do_shuffle_cams = 0\n",
    "        self.refcam_id = 1\n",
    "\n",
    "        self.backbone = \"res101-simplebev\"\n",
    "        self.freeze_backbone = 0\n",
    "        self.patch_size = 16\n",
    "\n",
    "        self.mask_classification = 1\n",
    "        self.class_weight = 1.0\n",
    "        self.dice_weight = 1.0\n",
    "        self.mask_weight = 20.0\n",
    "        self.no_object_weight = 0.1\n",
    "        self.deep_supervision = 1\n",
    "\n",
    "        self.train_num_points = 112*112\n",
    "        self.oversample_ratio = 3.0\n",
    "        self.importance_sample_ratio = 0.75\n",
    "\n",
    "        self.sem_seg_head_name = 'mask_former_head'\n",
    "        self.transformer_in_feature = 'multi_scale_bev_features'\n",
    "\n",
    "        self.bev_module_name = 'SimpleBEV'\n",
    "        self.bev_latent_dim = 128\n",
    "        self.multiscale_feature_channels = [64, 128, 256]\n",
    "        self.multiscale_feature_norm = 'batch'\n",
    "        self.multiscale_conv_dim = 256\n",
    "        self.voxel_size = [200, 8, 200]\n",
    "        self.bounds = [-50, 50, -5, 5, -50, 50]\n",
    "        self.do_rgb_compress = 1\n",
    "\n",
    "        self.use_frozen_bev_feats = 0\n",
    "        self.frozen_bev_feats_path = '/kuacc/users/mbarin22/hpc_run/mask2former4bev/checkpoints/simplebev/8x5_5e-4_rgb12_22:43:46/model-000025000.pth'\n",
    "\n",
    "        self.num_classes = 1\n",
    "\n",
    "        self.predictor_type = 'TransformerPredictor'\n",
    "        self.nheads = 8\n",
    "        self.dec_layers = 6\n",
    "        self.pe_hidden_dim = 256\n",
    "        self.predictor_dropout = 0\n",
    "        self.num_queries = 100\n",
    "        self.pre_norm = 0\n",
    "        self.dim_feedforward = 2048\n",
    "        self.enforce_input_project = 0\n",
    "        self.mask_dim = 256\n",
    "        \n",
    "        self.use_multiscale_features = 1\n",
    "        self.rt_regression = 0\n",
    "        self.translation_weight =1\n",
    "        self.heading_weight = 1\n",
    "\n",
    "        self.use_lidar = 1\n",
    "\n",
    "        self.decoder_type = 'conv'\n",
    "\n",
    "        self.learning_rate = 4e-4\n",
    "        self.weight_decay = 1e-7\n",
    "        self.dropout = 0.0\n",
    "        \n",
    "        self.is_loss_weights_param = 0\n",
    "        self.validate_with_gt = 0\n",
    "        \n",
    "        self.inference = 'sem_seg'\n",
    "\n",
    "\n",
    "args = Arguments()"
   ]
  },
  {
   "cell_type": "code",
   "execution_count": 4,
   "metadata": {},
   "outputs": [],
   "source": [
    "ckpt_path = \"/kuacc/users/mbarin22/hpc_run/mask2former4bev/checkpoints/[448, 800]_bs:16_nq:100_backbone:res101-simplebev_cls:1-1.0_pts:12544_50k/best.pt\" "
   ]
  },
  {
   "cell_type": "code",
   "execution_count": 5,
   "metadata": {},
   "outputs": [
    {
     "name": "stdout",
     "output_type": "stream",
     "text": [
      "Loading NuScenes version trainval from /datasets/nuscenes\n",
      "Done loading NuScenes version trainval\n"
     ]
    }
   ],
   "source": [
    "from dataset import NuScenesDatasetWrapper\n",
    "\n",
    "datamodule = NuScenesDatasetWrapper(args)"
   ]
  },
  {
   "cell_type": "code",
   "execution_count": 6,
   "metadata": {},
   "outputs": [
    {
     "name": "stderr",
     "output_type": "stream",
     "text": [
      "/kuacc/users/mbarin22/.conda/envs/mask2former/lib/python3.8/site-packages/torchvision/models/_utils.py:208: UserWarning: The parameter 'pretrained' is deprecated since 0.13 and may be removed in the future, please use 'weights' instead.\n",
      "  warnings.warn(\n",
      "/kuacc/users/mbarin22/.conda/envs/mask2former/lib/python3.8/site-packages/torchvision/models/_utils.py:223: UserWarning: Arguments other than a weight enum or `None` for 'weights' are deprecated since 0.13 and may be removed in the future. The current behavior is equivalent to passing `weights=ResNet101_Weights.IMAGENET1K_V1`. You can also use `weights=ResNet101_Weights.DEFAULT` to get the most up-to-date weights.\n",
      "  warnings.warn(msg)\n"
     ]
    },
    {
     "name": "stdout",
     "output_type": "stream",
     "text": [
      "idx: 0, in_channels: 64\n",
      "idx: 1, in_channels: 128\n",
      "idx: 2, in_channels: 256\n",
      "lateral_convs 0: None\n",
      "lateral_convs 1: Sequential(\n",
      "  (0): Conv2d(128, 256, kernel_size=(1, 1), stride=(1, 1), bias=False)\n",
      "  (1): BatchNorm2d(256, eps=1e-05, momentum=0.1, affine=True, track_running_stats=True)\n",
      ")\n",
      "lateral_convs 2: Sequential(\n",
      "  (0): Conv2d(64, 256, kernel_size=(1, 1), stride=(1, 1), bias=False)\n",
      "  (1): BatchNorm2d(256, eps=1e-05, momentum=0.1, affine=True, track_running_stats=True)\n",
      ")\n",
      "output_convs 0: Sequential(\n",
      "  (0): Conv2d(256, 256, kernel_size=(3, 3), stride=(1, 1), padding=(1, 1), bias=False)\n",
      "  (1): BatchNorm2d(256, eps=1e-05, momentum=0.1, affine=True, track_running_stats=True)\n",
      "  (2): ReLU(inplace=True)\n",
      ")\n",
      "output_convs 1: Sequential(\n",
      "  (0): Conv2d(256, 256, kernel_size=(3, 3), stride=(1, 1), padding=(1, 1), bias=False)\n",
      "  (1): BatchNorm2d(256, eps=1e-05, momentum=0.1, affine=True, track_running_stats=True)\n",
      "  (2): ReLU(inplace=True)\n",
      ")\n",
      "output_convs 2: Sequential(\n",
      "  (0): Conv2d(256, 256, kernel_size=(3, 3), stride=(1, 1), padding=(1, 1), bias=False)\n",
      "  (1): BatchNorm2d(256, eps=1e-05, momentum=0.1, affine=True, track_running_stats=True)\n",
      "  (2): ReLU(inplace=True)\n",
      ")\n"
     ]
    },
    {
     "name": "stderr",
     "output_type": "stream",
     "text": [
      "/kuacc/users/mbarin22/.conda/envs/mask2former/lib/python3.8/site-packages/torchvision/models/_utils.py:223: UserWarning: Arguments other than a weight enum or `None` for 'weights' are deprecated since 0.13 and may be removed in the future. The current behavior is equivalent to passing `weights=None`.\n",
      "  warnings.warn(msg)\n"
     ]
    },
    {
     "data": {
      "text/plain": [
       "Mask2Former4BEV(\n",
       "  (backbone): SimpleBEVEncoder(\n",
       "    (encoder): Encoder_res101(\n",
       "      (backbone): Sequential(\n",
       "        (0): Conv2d(3, 64, kernel_size=(7, 7), stride=(2, 2), padding=(3, 3), bias=False)\n",
       "        (1): BatchNorm2d(64, eps=1e-05, momentum=0.1, affine=True, track_running_stats=True)\n",
       "        (2): ReLU(inplace=True)\n",
       "        (3): MaxPool2d(kernel_size=3, stride=2, padding=1, dilation=1, ceil_mode=False)\n",
       "        (4): Sequential(\n",
       "          (0): Bottleneck(\n",
       "            (conv1): Conv2d(64, 64, kernel_size=(1, 1), stride=(1, 1), bias=False)\n",
       "            (bn1): BatchNorm2d(64, eps=1e-05, momentum=0.1, affine=True, track_running_stats=True)\n",
       "            (conv2): Conv2d(64, 64, kernel_size=(3, 3), stride=(1, 1), padding=(1, 1), bias=False)\n",
       "            (bn2): BatchNorm2d(64, eps=1e-05, momentum=0.1, affine=True, track_running_stats=True)\n",
       "            (conv3): Conv2d(64, 256, kernel_size=(1, 1), stride=(1, 1), bias=False)\n",
       "            (bn3): BatchNorm2d(256, eps=1e-05, momentum=0.1, affine=True, track_running_stats=True)\n",
       "            (relu): ReLU(inplace=True)\n",
       "            (downsample): Sequential(\n",
       "              (0): Conv2d(64, 256, kernel_size=(1, 1), stride=(1, 1), bias=False)\n",
       "              (1): BatchNorm2d(256, eps=1e-05, momentum=0.1, affine=True, track_running_stats=True)\n",
       "            )\n",
       "          )\n",
       "          (1): Bottleneck(\n",
       "            (conv1): Conv2d(256, 64, kernel_size=(1, 1), stride=(1, 1), bias=False)\n",
       "            (bn1): BatchNorm2d(64, eps=1e-05, momentum=0.1, affine=True, track_running_stats=True)\n",
       "            (conv2): Conv2d(64, 64, kernel_size=(3, 3), stride=(1, 1), padding=(1, 1), bias=False)\n",
       "            (bn2): BatchNorm2d(64, eps=1e-05, momentum=0.1, affine=True, track_running_stats=True)\n",
       "            (conv3): Conv2d(64, 256, kernel_size=(1, 1), stride=(1, 1), bias=False)\n",
       "            (bn3): BatchNorm2d(256, eps=1e-05, momentum=0.1, affine=True, track_running_stats=True)\n",
       "            (relu): ReLU(inplace=True)\n",
       "          )\n",
       "          (2): Bottleneck(\n",
       "            (conv1): Conv2d(256, 64, kernel_size=(1, 1), stride=(1, 1), bias=False)\n",
       "            (bn1): BatchNorm2d(64, eps=1e-05, momentum=0.1, affine=True, track_running_stats=True)\n",
       "            (conv2): Conv2d(64, 64, kernel_size=(3, 3), stride=(1, 1), padding=(1, 1), bias=False)\n",
       "            (bn2): BatchNorm2d(64, eps=1e-05, momentum=0.1, affine=True, track_running_stats=True)\n",
       "            (conv3): Conv2d(64, 256, kernel_size=(1, 1), stride=(1, 1), bias=False)\n",
       "            (bn3): BatchNorm2d(256, eps=1e-05, momentum=0.1, affine=True, track_running_stats=True)\n",
       "            (relu): ReLU(inplace=True)\n",
       "          )\n",
       "        )\n",
       "        (5): Sequential(\n",
       "          (0): Bottleneck(\n",
       "            (conv1): Conv2d(256, 128, kernel_size=(1, 1), stride=(1, 1), bias=False)\n",
       "            (bn1): BatchNorm2d(128, eps=1e-05, momentum=0.1, affine=True, track_running_stats=True)\n",
       "            (conv2): Conv2d(128, 128, kernel_size=(3, 3), stride=(2, 2), padding=(1, 1), bias=False)\n",
       "            (bn2): BatchNorm2d(128, eps=1e-05, momentum=0.1, affine=True, track_running_stats=True)\n",
       "            (conv3): Conv2d(128, 512, kernel_size=(1, 1), stride=(1, 1), bias=False)\n",
       "            (bn3): BatchNorm2d(512, eps=1e-05, momentum=0.1, affine=True, track_running_stats=True)\n",
       "            (relu): ReLU(inplace=True)\n",
       "            (downsample): Sequential(\n",
       "              (0): Conv2d(256, 512, kernel_size=(1, 1), stride=(2, 2), bias=False)\n",
       "              (1): BatchNorm2d(512, eps=1e-05, momentum=0.1, affine=True, track_running_stats=True)\n",
       "            )\n",
       "          )\n",
       "          (1): Bottleneck(\n",
       "            (conv1): Conv2d(512, 128, kernel_size=(1, 1), stride=(1, 1), bias=False)\n",
       "            (bn1): BatchNorm2d(128, eps=1e-05, momentum=0.1, affine=True, track_running_stats=True)\n",
       "            (conv2): Conv2d(128, 128, kernel_size=(3, 3), stride=(1, 1), padding=(1, 1), bias=False)\n",
       "            (bn2): BatchNorm2d(128, eps=1e-05, momentum=0.1, affine=True, track_running_stats=True)\n",
       "            (conv3): Conv2d(128, 512, kernel_size=(1, 1), stride=(1, 1), bias=False)\n",
       "            (bn3): BatchNorm2d(512, eps=1e-05, momentum=0.1, affine=True, track_running_stats=True)\n",
       "            (relu): ReLU(inplace=True)\n",
       "          )\n",
       "          (2): Bottleneck(\n",
       "            (conv1): Conv2d(512, 128, kernel_size=(1, 1), stride=(1, 1), bias=False)\n",
       "            (bn1): BatchNorm2d(128, eps=1e-05, momentum=0.1, affine=True, track_running_stats=True)\n",
       "            (conv2): Conv2d(128, 128, kernel_size=(3, 3), stride=(1, 1), padding=(1, 1), bias=False)\n",
       "            (bn2): BatchNorm2d(128, eps=1e-05, momentum=0.1, affine=True, track_running_stats=True)\n",
       "            (conv3): Conv2d(128, 512, kernel_size=(1, 1), stride=(1, 1), bias=False)\n",
       "            (bn3): BatchNorm2d(512, eps=1e-05, momentum=0.1, affine=True, track_running_stats=True)\n",
       "            (relu): ReLU(inplace=True)\n",
       "          )\n",
       "          (3): Bottleneck(\n",
       "            (conv1): Conv2d(512, 128, kernel_size=(1, 1), stride=(1, 1), bias=False)\n",
       "            (bn1): BatchNorm2d(128, eps=1e-05, momentum=0.1, affine=True, track_running_stats=True)\n",
       "            (conv2): Conv2d(128, 128, kernel_size=(3, 3), stride=(1, 1), padding=(1, 1), bias=False)\n",
       "            (bn2): BatchNorm2d(128, eps=1e-05, momentum=0.1, affine=True, track_running_stats=True)\n",
       "            (conv3): Conv2d(128, 512, kernel_size=(1, 1), stride=(1, 1), bias=False)\n",
       "            (bn3): BatchNorm2d(512, eps=1e-05, momentum=0.1, affine=True, track_running_stats=True)\n",
       "            (relu): ReLU(inplace=True)\n",
       "          )\n",
       "        )\n",
       "      )\n",
       "      (layer3): Sequential(\n",
       "        (0): Bottleneck(\n",
       "          (conv1): Conv2d(512, 256, kernel_size=(1, 1), stride=(1, 1), bias=False)\n",
       "          (bn1): BatchNorm2d(256, eps=1e-05, momentum=0.1, affine=True, track_running_stats=True)\n",
       "          (conv2): Conv2d(256, 256, kernel_size=(3, 3), stride=(2, 2), padding=(1, 1), bias=False)\n",
       "          (bn2): BatchNorm2d(256, eps=1e-05, momentum=0.1, affine=True, track_running_stats=True)\n",
       "          (conv3): Conv2d(256, 1024, kernel_size=(1, 1), stride=(1, 1), bias=False)\n",
       "          (bn3): BatchNorm2d(1024, eps=1e-05, momentum=0.1, affine=True, track_running_stats=True)\n",
       "          (relu): ReLU(inplace=True)\n",
       "          (downsample): Sequential(\n",
       "            (0): Conv2d(512, 1024, kernel_size=(1, 1), stride=(2, 2), bias=False)\n",
       "            (1): BatchNorm2d(1024, eps=1e-05, momentum=0.1, affine=True, track_running_stats=True)\n",
       "          )\n",
       "        )\n",
       "        (1): Bottleneck(\n",
       "          (conv1): Conv2d(1024, 256, kernel_size=(1, 1), stride=(1, 1), bias=False)\n",
       "          (bn1): BatchNorm2d(256, eps=1e-05, momentum=0.1, affine=True, track_running_stats=True)\n",
       "          (conv2): Conv2d(256, 256, kernel_size=(3, 3), stride=(1, 1), padding=(1, 1), bias=False)\n",
       "          (bn2): BatchNorm2d(256, eps=1e-05, momentum=0.1, affine=True, track_running_stats=True)\n",
       "          (conv3): Conv2d(256, 1024, kernel_size=(1, 1), stride=(1, 1), bias=False)\n",
       "          (bn3): BatchNorm2d(1024, eps=1e-05, momentum=0.1, affine=True, track_running_stats=True)\n",
       "          (relu): ReLU(inplace=True)\n",
       "        )\n",
       "        (2): Bottleneck(\n",
       "          (conv1): Conv2d(1024, 256, kernel_size=(1, 1), stride=(1, 1), bias=False)\n",
       "          (bn1): BatchNorm2d(256, eps=1e-05, momentum=0.1, affine=True, track_running_stats=True)\n",
       "          (conv2): Conv2d(256, 256, kernel_size=(3, 3), stride=(1, 1), padding=(1, 1), bias=False)\n",
       "          (bn2): BatchNorm2d(256, eps=1e-05, momentum=0.1, affine=True, track_running_stats=True)\n",
       "          (conv3): Conv2d(256, 1024, kernel_size=(1, 1), stride=(1, 1), bias=False)\n",
       "          (bn3): BatchNorm2d(1024, eps=1e-05, momentum=0.1, affine=True, track_running_stats=True)\n",
       "          (relu): ReLU(inplace=True)\n",
       "        )\n",
       "        (3): Bottleneck(\n",
       "          (conv1): Conv2d(1024, 256, kernel_size=(1, 1), stride=(1, 1), bias=False)\n",
       "          (bn1): BatchNorm2d(256, eps=1e-05, momentum=0.1, affine=True, track_running_stats=True)\n",
       "          (conv2): Conv2d(256, 256, kernel_size=(3, 3), stride=(1, 1), padding=(1, 1), bias=False)\n",
       "          (bn2): BatchNorm2d(256, eps=1e-05, momentum=0.1, affine=True, track_running_stats=True)\n",
       "          (conv3): Conv2d(256, 1024, kernel_size=(1, 1), stride=(1, 1), bias=False)\n",
       "          (bn3): BatchNorm2d(1024, eps=1e-05, momentum=0.1, affine=True, track_running_stats=True)\n",
       "          (relu): ReLU(inplace=True)\n",
       "        )\n",
       "        (4): Bottleneck(\n",
       "          (conv1): Conv2d(1024, 256, kernel_size=(1, 1), stride=(1, 1), bias=False)\n",
       "          (bn1): BatchNorm2d(256, eps=1e-05, momentum=0.1, affine=True, track_running_stats=True)\n",
       "          (conv2): Conv2d(256, 256, kernel_size=(3, 3), stride=(1, 1), padding=(1, 1), bias=False)\n",
       "          (bn2): BatchNorm2d(256, eps=1e-05, momentum=0.1, affine=True, track_running_stats=True)\n",
       "          (conv3): Conv2d(256, 1024, kernel_size=(1, 1), stride=(1, 1), bias=False)\n",
       "          (bn3): BatchNorm2d(1024, eps=1e-05, momentum=0.1, affine=True, track_running_stats=True)\n",
       "          (relu): ReLU(inplace=True)\n",
       "        )\n",
       "        (5): Bottleneck(\n",
       "          (conv1): Conv2d(1024, 256, kernel_size=(1, 1), stride=(1, 1), bias=False)\n",
       "          (bn1): BatchNorm2d(256, eps=1e-05, momentum=0.1, affine=True, track_running_stats=True)\n",
       "          (conv2): Conv2d(256, 256, kernel_size=(3, 3), stride=(1, 1), padding=(1, 1), bias=False)\n",
       "          (bn2): BatchNorm2d(256, eps=1e-05, momentum=0.1, affine=True, track_running_stats=True)\n",
       "          (conv3): Conv2d(256, 1024, kernel_size=(1, 1), stride=(1, 1), bias=False)\n",
       "          (bn3): BatchNorm2d(1024, eps=1e-05, momentum=0.1, affine=True, track_running_stats=True)\n",
       "          (relu): ReLU(inplace=True)\n",
       "        )\n",
       "        (6): Bottleneck(\n",
       "          (conv1): Conv2d(1024, 256, kernel_size=(1, 1), stride=(1, 1), bias=False)\n",
       "          (bn1): BatchNorm2d(256, eps=1e-05, momentum=0.1, affine=True, track_running_stats=True)\n",
       "          (conv2): Conv2d(256, 256, kernel_size=(3, 3), stride=(1, 1), padding=(1, 1), bias=False)\n",
       "          (bn2): BatchNorm2d(256, eps=1e-05, momentum=0.1, affine=True, track_running_stats=True)\n",
       "          (conv3): Conv2d(256, 1024, kernel_size=(1, 1), stride=(1, 1), bias=False)\n",
       "          (bn3): BatchNorm2d(1024, eps=1e-05, momentum=0.1, affine=True, track_running_stats=True)\n",
       "          (relu): ReLU(inplace=True)\n",
       "        )\n",
       "        (7): Bottleneck(\n",
       "          (conv1): Conv2d(1024, 256, kernel_size=(1, 1), stride=(1, 1), bias=False)\n",
       "          (bn1): BatchNorm2d(256, eps=1e-05, momentum=0.1, affine=True, track_running_stats=True)\n",
       "          (conv2): Conv2d(256, 256, kernel_size=(3, 3), stride=(1, 1), padding=(1, 1), bias=False)\n",
       "          (bn2): BatchNorm2d(256, eps=1e-05, momentum=0.1, affine=True, track_running_stats=True)\n",
       "          (conv3): Conv2d(256, 1024, kernel_size=(1, 1), stride=(1, 1), bias=False)\n",
       "          (bn3): BatchNorm2d(1024, eps=1e-05, momentum=0.1, affine=True, track_running_stats=True)\n",
       "          (relu): ReLU(inplace=True)\n",
       "        )\n",
       "        (8): Bottleneck(\n",
       "          (conv1): Conv2d(1024, 256, kernel_size=(1, 1), stride=(1, 1), bias=False)\n",
       "          (bn1): BatchNorm2d(256, eps=1e-05, momentum=0.1, affine=True, track_running_stats=True)\n",
       "          (conv2): Conv2d(256, 256, kernel_size=(3, 3), stride=(1, 1), padding=(1, 1), bias=False)\n",
       "          (bn2): BatchNorm2d(256, eps=1e-05, momentum=0.1, affine=True, track_running_stats=True)\n",
       "          (conv3): Conv2d(256, 1024, kernel_size=(1, 1), stride=(1, 1), bias=False)\n",
       "          (bn3): BatchNorm2d(1024, eps=1e-05, momentum=0.1, affine=True, track_running_stats=True)\n",
       "          (relu): ReLU(inplace=True)\n",
       "        )\n",
       "        (9): Bottleneck(\n",
       "          (conv1): Conv2d(1024, 256, kernel_size=(1, 1), stride=(1, 1), bias=False)\n",
       "          (bn1): BatchNorm2d(256, eps=1e-05, momentum=0.1, affine=True, track_running_stats=True)\n",
       "          (conv2): Conv2d(256, 256, kernel_size=(3, 3), stride=(1, 1), padding=(1, 1), bias=False)\n",
       "          (bn2): BatchNorm2d(256, eps=1e-05, momentum=0.1, affine=True, track_running_stats=True)\n",
       "          (conv3): Conv2d(256, 1024, kernel_size=(1, 1), stride=(1, 1), bias=False)\n",
       "          (bn3): BatchNorm2d(1024, eps=1e-05, momentum=0.1, affine=True, track_running_stats=True)\n",
       "          (relu): ReLU(inplace=True)\n",
       "        )\n",
       "        (10): Bottleneck(\n",
       "          (conv1): Conv2d(1024, 256, kernel_size=(1, 1), stride=(1, 1), bias=False)\n",
       "          (bn1): BatchNorm2d(256, eps=1e-05, momentum=0.1, affine=True, track_running_stats=True)\n",
       "          (conv2): Conv2d(256, 256, kernel_size=(3, 3), stride=(1, 1), padding=(1, 1), bias=False)\n",
       "          (bn2): BatchNorm2d(256, eps=1e-05, momentum=0.1, affine=True, track_running_stats=True)\n",
       "          (conv3): Conv2d(256, 1024, kernel_size=(1, 1), stride=(1, 1), bias=False)\n",
       "          (bn3): BatchNorm2d(1024, eps=1e-05, momentum=0.1, affine=True, track_running_stats=True)\n",
       "          (relu): ReLU(inplace=True)\n",
       "        )\n",
       "        (11): Bottleneck(\n",
       "          (conv1): Conv2d(1024, 256, kernel_size=(1, 1), stride=(1, 1), bias=False)\n",
       "          (bn1): BatchNorm2d(256, eps=1e-05, momentum=0.1, affine=True, track_running_stats=True)\n",
       "          (conv2): Conv2d(256, 256, kernel_size=(3, 3), stride=(1, 1), padding=(1, 1), bias=False)\n",
       "          (bn2): BatchNorm2d(256, eps=1e-05, momentum=0.1, affine=True, track_running_stats=True)\n",
       "          (conv3): Conv2d(256, 1024, kernel_size=(1, 1), stride=(1, 1), bias=False)\n",
       "          (bn3): BatchNorm2d(1024, eps=1e-05, momentum=0.1, affine=True, track_running_stats=True)\n",
       "          (relu): ReLU(inplace=True)\n",
       "        )\n",
       "        (12): Bottleneck(\n",
       "          (conv1): Conv2d(1024, 256, kernel_size=(1, 1), stride=(1, 1), bias=False)\n",
       "          (bn1): BatchNorm2d(256, eps=1e-05, momentum=0.1, affine=True, track_running_stats=True)\n",
       "          (conv2): Conv2d(256, 256, kernel_size=(3, 3), stride=(1, 1), padding=(1, 1), bias=False)\n",
       "          (bn2): BatchNorm2d(256, eps=1e-05, momentum=0.1, affine=True, track_running_stats=True)\n",
       "          (conv3): Conv2d(256, 1024, kernel_size=(1, 1), stride=(1, 1), bias=False)\n",
       "          (bn3): BatchNorm2d(1024, eps=1e-05, momentum=0.1, affine=True, track_running_stats=True)\n",
       "          (relu): ReLU(inplace=True)\n",
       "        )\n",
       "        (13): Bottleneck(\n",
       "          (conv1): Conv2d(1024, 256, kernel_size=(1, 1), stride=(1, 1), bias=False)\n",
       "          (bn1): BatchNorm2d(256, eps=1e-05, momentum=0.1, affine=True, track_running_stats=True)\n",
       "          (conv2): Conv2d(256, 256, kernel_size=(3, 3), stride=(1, 1), padding=(1, 1), bias=False)\n",
       "          (bn2): BatchNorm2d(256, eps=1e-05, momentum=0.1, affine=True, track_running_stats=True)\n",
       "          (conv3): Conv2d(256, 1024, kernel_size=(1, 1), stride=(1, 1), bias=False)\n",
       "          (bn3): BatchNorm2d(1024, eps=1e-05, momentum=0.1, affine=True, track_running_stats=True)\n",
       "          (relu): ReLU(inplace=True)\n",
       "        )\n",
       "        (14): Bottleneck(\n",
       "          (conv1): Conv2d(1024, 256, kernel_size=(1, 1), stride=(1, 1), bias=False)\n",
       "          (bn1): BatchNorm2d(256, eps=1e-05, momentum=0.1, affine=True, track_running_stats=True)\n",
       "          (conv2): Conv2d(256, 256, kernel_size=(3, 3), stride=(1, 1), padding=(1, 1), bias=False)\n",
       "          (bn2): BatchNorm2d(256, eps=1e-05, momentum=0.1, affine=True, track_running_stats=True)\n",
       "          (conv3): Conv2d(256, 1024, kernel_size=(1, 1), stride=(1, 1), bias=False)\n",
       "          (bn3): BatchNorm2d(1024, eps=1e-05, momentum=0.1, affine=True, track_running_stats=True)\n",
       "          (relu): ReLU(inplace=True)\n",
       "        )\n",
       "        (15): Bottleneck(\n",
       "          (conv1): Conv2d(1024, 256, kernel_size=(1, 1), stride=(1, 1), bias=False)\n",
       "          (bn1): BatchNorm2d(256, eps=1e-05, momentum=0.1, affine=True, track_running_stats=True)\n",
       "          (conv2): Conv2d(256, 256, kernel_size=(3, 3), stride=(1, 1), padding=(1, 1), bias=False)\n",
       "          (bn2): BatchNorm2d(256, eps=1e-05, momentum=0.1, affine=True, track_running_stats=True)\n",
       "          (conv3): Conv2d(256, 1024, kernel_size=(1, 1), stride=(1, 1), bias=False)\n",
       "          (bn3): BatchNorm2d(1024, eps=1e-05, momentum=0.1, affine=True, track_running_stats=True)\n",
       "          (relu): ReLU(inplace=True)\n",
       "        )\n",
       "        (16): Bottleneck(\n",
       "          (conv1): Conv2d(1024, 256, kernel_size=(1, 1), stride=(1, 1), bias=False)\n",
       "          (bn1): BatchNorm2d(256, eps=1e-05, momentum=0.1, affine=True, track_running_stats=True)\n",
       "          (conv2): Conv2d(256, 256, kernel_size=(3, 3), stride=(1, 1), padding=(1, 1), bias=False)\n",
       "          (bn2): BatchNorm2d(256, eps=1e-05, momentum=0.1, affine=True, track_running_stats=True)\n",
       "          (conv3): Conv2d(256, 1024, kernel_size=(1, 1), stride=(1, 1), bias=False)\n",
       "          (bn3): BatchNorm2d(1024, eps=1e-05, momentum=0.1, affine=True, track_running_stats=True)\n",
       "          (relu): ReLU(inplace=True)\n",
       "        )\n",
       "        (17): Bottleneck(\n",
       "          (conv1): Conv2d(1024, 256, kernel_size=(1, 1), stride=(1, 1), bias=False)\n",
       "          (bn1): BatchNorm2d(256, eps=1e-05, momentum=0.1, affine=True, track_running_stats=True)\n",
       "          (conv2): Conv2d(256, 256, kernel_size=(3, 3), stride=(1, 1), padding=(1, 1), bias=False)\n",
       "          (bn2): BatchNorm2d(256, eps=1e-05, momentum=0.1, affine=True, track_running_stats=True)\n",
       "          (conv3): Conv2d(256, 1024, kernel_size=(1, 1), stride=(1, 1), bias=False)\n",
       "          (bn3): BatchNorm2d(1024, eps=1e-05, momentum=0.1, affine=True, track_running_stats=True)\n",
       "          (relu): ReLU(inplace=True)\n",
       "        )\n",
       "        (18): Bottleneck(\n",
       "          (conv1): Conv2d(1024, 256, kernel_size=(1, 1), stride=(1, 1), bias=False)\n",
       "          (bn1): BatchNorm2d(256, eps=1e-05, momentum=0.1, affine=True, track_running_stats=True)\n",
       "          (conv2): Conv2d(256, 256, kernel_size=(3, 3), stride=(1, 1), padding=(1, 1), bias=False)\n",
       "          (bn2): BatchNorm2d(256, eps=1e-05, momentum=0.1, affine=True, track_running_stats=True)\n",
       "          (conv3): Conv2d(256, 1024, kernel_size=(1, 1), stride=(1, 1), bias=False)\n",
       "          (bn3): BatchNorm2d(1024, eps=1e-05, momentum=0.1, affine=True, track_running_stats=True)\n",
       "          (relu): ReLU(inplace=True)\n",
       "        )\n",
       "        (19): Bottleneck(\n",
       "          (conv1): Conv2d(1024, 256, kernel_size=(1, 1), stride=(1, 1), bias=False)\n",
       "          (bn1): BatchNorm2d(256, eps=1e-05, momentum=0.1, affine=True, track_running_stats=True)\n",
       "          (conv2): Conv2d(256, 256, kernel_size=(3, 3), stride=(1, 1), padding=(1, 1), bias=False)\n",
       "          (bn2): BatchNorm2d(256, eps=1e-05, momentum=0.1, affine=True, track_running_stats=True)\n",
       "          (conv3): Conv2d(256, 1024, kernel_size=(1, 1), stride=(1, 1), bias=False)\n",
       "          (bn3): BatchNorm2d(1024, eps=1e-05, momentum=0.1, affine=True, track_running_stats=True)\n",
       "          (relu): ReLU(inplace=True)\n",
       "        )\n",
       "        (20): Bottleneck(\n",
       "          (conv1): Conv2d(1024, 256, kernel_size=(1, 1), stride=(1, 1), bias=False)\n",
       "          (bn1): BatchNorm2d(256, eps=1e-05, momentum=0.1, affine=True, track_running_stats=True)\n",
       "          (conv2): Conv2d(256, 256, kernel_size=(3, 3), stride=(1, 1), padding=(1, 1), bias=False)\n",
       "          (bn2): BatchNorm2d(256, eps=1e-05, momentum=0.1, affine=True, track_running_stats=True)\n",
       "          (conv3): Conv2d(256, 1024, kernel_size=(1, 1), stride=(1, 1), bias=False)\n",
       "          (bn3): BatchNorm2d(1024, eps=1e-05, momentum=0.1, affine=True, track_running_stats=True)\n",
       "          (relu): ReLU(inplace=True)\n",
       "        )\n",
       "        (21): Bottleneck(\n",
       "          (conv1): Conv2d(1024, 256, kernel_size=(1, 1), stride=(1, 1), bias=False)\n",
       "          (bn1): BatchNorm2d(256, eps=1e-05, momentum=0.1, affine=True, track_running_stats=True)\n",
       "          (conv2): Conv2d(256, 256, kernel_size=(3, 3), stride=(1, 1), padding=(1, 1), bias=False)\n",
       "          (bn2): BatchNorm2d(256, eps=1e-05, momentum=0.1, affine=True, track_running_stats=True)\n",
       "          (conv3): Conv2d(256, 1024, kernel_size=(1, 1), stride=(1, 1), bias=False)\n",
       "          (bn3): BatchNorm2d(1024, eps=1e-05, momentum=0.1, affine=True, track_running_stats=True)\n",
       "          (relu): ReLU(inplace=True)\n",
       "        )\n",
       "        (22): Bottleneck(\n",
       "          (conv1): Conv2d(1024, 256, kernel_size=(1, 1), stride=(1, 1), bias=False)\n",
       "          (bn1): BatchNorm2d(256, eps=1e-05, momentum=0.1, affine=True, track_running_stats=True)\n",
       "          (conv2): Conv2d(256, 256, kernel_size=(3, 3), stride=(1, 1), padding=(1, 1), bias=False)\n",
       "          (bn2): BatchNorm2d(256, eps=1e-05, momentum=0.1, affine=True, track_running_stats=True)\n",
       "          (conv3): Conv2d(256, 1024, kernel_size=(1, 1), stride=(1, 1), bias=False)\n",
       "          (bn3): BatchNorm2d(1024, eps=1e-05, momentum=0.1, affine=True, track_running_stats=True)\n",
       "          (relu): ReLU(inplace=True)\n",
       "        )\n",
       "      )\n",
       "      (depth_layer): Conv2d(512, 128, kernel_size=(1, 1), stride=(1, 1))\n",
       "      (upsampling_layer): UpsamplingConcat(\n",
       "        (upsample): Upsample(scale_factor=2.0, mode=bilinear)\n",
       "        (conv): Sequential(\n",
       "          (0): Conv2d(1536, 512, kernel_size=(3, 3), stride=(1, 1), padding=(1, 1), bias=False)\n",
       "          (1): InstanceNorm2d(512, eps=1e-05, momentum=0.1, affine=False, track_running_stats=False)\n",
       "          (2): ReLU(inplace=True)\n",
       "          (3): Conv2d(512, 512, kernel_size=(3, 3), stride=(1, 1), padding=(1, 1), bias=False)\n",
       "          (4): InstanceNorm2d(512, eps=1e-05, momentum=0.1, affine=False, track_running_stats=False)\n",
       "          (5): ReLU(inplace=True)\n",
       "        )\n",
       "      )\n",
       "    )\n",
       "  )\n",
       "  (sem_seg_head): MaskFormerHead(\n",
       "    (pixel_decoder): SimpleBEVModule(\n",
       "      (adapter_1): Sequential(\n",
       "        (0): Conv2d(64, 256, kernel_size=(1, 1), stride=(1, 1), bias=False)\n",
       "        (1): BatchNorm2d(256, eps=1e-05, momentum=0.1, affine=True, track_running_stats=True)\n",
       "      )\n",
       "      (layer_1): Sequential(\n",
       "        (0): Conv2d(256, 256, kernel_size=(3, 3), stride=(1, 1), padding=(1, 1), bias=False)\n",
       "        (1): BatchNorm2d(256, eps=1e-05, momentum=0.1, affine=True, track_running_stats=True)\n",
       "        (2): ReLU(inplace=True)\n",
       "      )\n",
       "      (adapter_2): Sequential(\n",
       "        (0): Conv2d(128, 256, kernel_size=(1, 1), stride=(1, 1), bias=False)\n",
       "        (1): BatchNorm2d(256, eps=1e-05, momentum=0.1, affine=True, track_running_stats=True)\n",
       "      )\n",
       "      (layer_2): Sequential(\n",
       "        (0): Conv2d(256, 256, kernel_size=(3, 3), stride=(1, 1), padding=(1, 1), bias=False)\n",
       "        (1): BatchNorm2d(256, eps=1e-05, momentum=0.1, affine=True, track_running_stats=True)\n",
       "        (2): ReLU(inplace=True)\n",
       "      )\n",
       "      (layer_3): Sequential(\n",
       "        (0): Conv2d(256, 256, kernel_size=(3, 3), stride=(1, 1), padding=(1, 1), bias=False)\n",
       "        (1): BatchNorm2d(256, eps=1e-05, momentum=0.1, affine=True, track_running_stats=True)\n",
       "        (2): ReLU(inplace=True)\n",
       "      )\n",
       "      (segnet): Segnet(\n",
       "        (bev_compressor): Sequential(\n",
       "          (0): Conv2d(1024, 128, kernel_size=(3, 3), stride=(1, 1), padding=(1, 1), bias=False)\n",
       "          (1): InstanceNorm2d(128, eps=1e-05, momentum=0.1, affine=False, track_running_stats=False)\n",
       "          (2): GELU(approximate='none')\n",
       "        )\n",
       "        (decoder): BEVDecoder(\n",
       "          (first_conv): Conv2d(128, 64, kernel_size=(7, 7), stride=(2, 2), padding=(3, 3), bias=False)\n",
       "          (bn1): BatchNorm2d(64, eps=1e-05, momentum=0.1, affine=True, track_running_stats=True)\n",
       "          (relu): ReLU(inplace=True)\n",
       "          (layer1): Sequential(\n",
       "            (0): BasicBlock(\n",
       "              (conv1): Conv2d(64, 64, kernel_size=(3, 3), stride=(1, 1), padding=(1, 1), bias=False)\n",
       "              (bn1): BatchNorm2d(64, eps=1e-05, momentum=0.1, affine=True, track_running_stats=True)\n",
       "              (relu): ReLU(inplace=True)\n",
       "              (conv2): Conv2d(64, 64, kernel_size=(3, 3), stride=(1, 1), padding=(1, 1), bias=False)\n",
       "              (bn2): BatchNorm2d(64, eps=1e-05, momentum=0.1, affine=True, track_running_stats=True)\n",
       "            )\n",
       "            (1): BasicBlock(\n",
       "              (conv1): Conv2d(64, 64, kernel_size=(3, 3), stride=(1, 1), padding=(1, 1), bias=False)\n",
       "              (bn1): BatchNorm2d(64, eps=1e-05, momentum=0.1, affine=True, track_running_stats=True)\n",
       "              (relu): ReLU(inplace=True)\n",
       "              (conv2): Conv2d(64, 64, kernel_size=(3, 3), stride=(1, 1), padding=(1, 1), bias=False)\n",
       "              (bn2): BatchNorm2d(64, eps=1e-05, momentum=0.1, affine=True, track_running_stats=True)\n",
       "            )\n",
       "          )\n",
       "          (layer2): Sequential(\n",
       "            (0): BasicBlock(\n",
       "              (conv1): Conv2d(64, 128, kernel_size=(3, 3), stride=(2, 2), padding=(1, 1), bias=False)\n",
       "              (bn1): BatchNorm2d(128, eps=1e-05, momentum=0.1, affine=True, track_running_stats=True)\n",
       "              (relu): ReLU(inplace=True)\n",
       "              (conv2): Conv2d(128, 128, kernel_size=(3, 3), stride=(1, 1), padding=(1, 1), bias=False)\n",
       "              (bn2): BatchNorm2d(128, eps=1e-05, momentum=0.1, affine=True, track_running_stats=True)\n",
       "              (downsample): Sequential(\n",
       "                (0): Conv2d(64, 128, kernel_size=(1, 1), stride=(2, 2), bias=False)\n",
       "                (1): BatchNorm2d(128, eps=1e-05, momentum=0.1, affine=True, track_running_stats=True)\n",
       "              )\n",
       "            )\n",
       "            (1): BasicBlock(\n",
       "              (conv1): Conv2d(128, 128, kernel_size=(3, 3), stride=(1, 1), padding=(1, 1), bias=False)\n",
       "              (bn1): BatchNorm2d(128, eps=1e-05, momentum=0.1, affine=True, track_running_stats=True)\n",
       "              (relu): ReLU(inplace=True)\n",
       "              (conv2): Conv2d(128, 128, kernel_size=(3, 3), stride=(1, 1), padding=(1, 1), bias=False)\n",
       "              (bn2): BatchNorm2d(128, eps=1e-05, momentum=0.1, affine=True, track_running_stats=True)\n",
       "            )\n",
       "          )\n",
       "          (layer3): Sequential(\n",
       "            (0): BasicBlock(\n",
       "              (conv1): Conv2d(128, 256, kernel_size=(3, 3), stride=(2, 2), padding=(1, 1), bias=False)\n",
       "              (bn1): BatchNorm2d(256, eps=1e-05, momentum=0.1, affine=True, track_running_stats=True)\n",
       "              (relu): ReLU(inplace=True)\n",
       "              (conv2): Conv2d(256, 256, kernel_size=(3, 3), stride=(1, 1), padding=(1, 1), bias=False)\n",
       "              (bn2): BatchNorm2d(256, eps=1e-05, momentum=0.1, affine=True, track_running_stats=True)\n",
       "              (downsample): Sequential(\n",
       "                (0): Conv2d(128, 256, kernel_size=(1, 1), stride=(2, 2), bias=False)\n",
       "                (1): BatchNorm2d(256, eps=1e-05, momentum=0.1, affine=True, track_running_stats=True)\n",
       "              )\n",
       "            )\n",
       "            (1): BasicBlock(\n",
       "              (conv1): Conv2d(256, 256, kernel_size=(3, 3), stride=(1, 1), padding=(1, 1), bias=False)\n",
       "              (bn1): BatchNorm2d(256, eps=1e-05, momentum=0.1, affine=True, track_running_stats=True)\n",
       "              (relu): ReLU(inplace=True)\n",
       "              (conv2): Conv2d(256, 256, kernel_size=(3, 3), stride=(1, 1), padding=(1, 1), bias=False)\n",
       "              (bn2): BatchNorm2d(256, eps=1e-05, momentum=0.1, affine=True, track_running_stats=True)\n",
       "            )\n",
       "          )\n",
       "          (up3_skip): UpsamplingAdd(\n",
       "            (upsample_layer): Sequential(\n",
       "              (0): Upsample(scale_factor=2.0, mode=bilinear)\n",
       "              (1): Conv2d(256, 128, kernel_size=(1, 1), stride=(1, 1), bias=False)\n",
       "              (2): InstanceNorm2d(128, eps=1e-05, momentum=0.1, affine=False, track_running_stats=False)\n",
       "            )\n",
       "          )\n",
       "          (up2_skip): UpsamplingAdd(\n",
       "            (upsample_layer): Sequential(\n",
       "              (0): Upsample(scale_factor=2.0, mode=bilinear)\n",
       "              (1): Conv2d(128, 64, kernel_size=(1, 1), stride=(1, 1), bias=False)\n",
       "              (2): InstanceNorm2d(64, eps=1e-05, momentum=0.1, affine=False, track_running_stats=False)\n",
       "            )\n",
       "          )\n",
       "          (up1_skip): UpsamplingAdd(\n",
       "            (upsample_layer): Sequential(\n",
       "              (0): Upsample(scale_factor=2.0, mode=bilinear)\n",
       "              (1): Conv2d(64, 128, kernel_size=(1, 1), stride=(1, 1), bias=False)\n",
       "              (2): InstanceNorm2d(128, eps=1e-05, momentum=0.1, affine=False, track_running_stats=False)\n",
       "            )\n",
       "          )\n",
       "          (feat_head): Sequential(\n",
       "            (0): Conv2d(128, 128, kernel_size=(3, 3), stride=(1, 1), padding=(1, 1), bias=False)\n",
       "            (1): InstanceNorm2d(128, eps=1e-05, momentum=0.1, affine=False, track_running_stats=False)\n",
       "            (2): ReLU()\n",
       "            (3): Conv2d(128, 128, kernel_size=(1, 1), stride=(1, 1))\n",
       "          )\n",
       "          (segmentation_head): Sequential(\n",
       "            (0): Conv2d(128, 128, kernel_size=(3, 3), stride=(1, 1), padding=(1, 1), bias=False)\n",
       "            (1): InstanceNorm2d(128, eps=1e-05, momentum=0.1, affine=False, track_running_stats=False)\n",
       "            (2): ReLU()\n",
       "            (3): Conv2d(128, 1, kernel_size=(1, 1), stride=(1, 1))\n",
       "          )\n",
       "          (instance_offset_head): Sequential(\n",
       "            (0): Conv2d(128, 128, kernel_size=(3, 3), stride=(1, 1), padding=(1, 1), bias=False)\n",
       "            (1): InstanceNorm2d(128, eps=1e-05, momentum=0.1, affine=False, track_running_stats=False)\n",
       "            (2): ReLU()\n",
       "            (3): Conv2d(128, 2, kernel_size=(1, 1), stride=(1, 1))\n",
       "          )\n",
       "          (instance_center_head): Sequential(\n",
       "            (0): Conv2d(128, 128, kernel_size=(3, 3), stride=(1, 1), padding=(1, 1), bias=False)\n",
       "            (1): InstanceNorm2d(128, eps=1e-05, momentum=0.1, affine=False, track_running_stats=False)\n",
       "            (2): ReLU()\n",
       "            (3): Conv2d(128, 1, kernel_size=(1, 1), stride=(1, 1))\n",
       "            (4): Sigmoid()\n",
       "          )\n",
       "        )\n",
       "      )\n",
       "      (mask_features): Conv2d(128, 256, kernel_size=(3, 3), stride=(1, 1), padding=(1, 1))\n",
       "    )\n",
       "    (predictor): MultiScaleMaskedTransformerDecoder(\n",
       "      (pe_layer): PositionEmbeddingSine()\n",
       "      (transformer_self_attention_layers): ModuleList(\n",
       "        (0): SelfAttentionLayer(\n",
       "          (self_attn): MultiheadAttention(\n",
       "            (out_proj): NonDynamicallyQuantizableLinear(in_features=256, out_features=256, bias=True)\n",
       "          )\n",
       "          (norm): LayerNorm((256,), eps=1e-05, elementwise_affine=True)\n",
       "          (dropout): Dropout(p=0, inplace=False)\n",
       "        )\n",
       "        (1): SelfAttentionLayer(\n",
       "          (self_attn): MultiheadAttention(\n",
       "            (out_proj): NonDynamicallyQuantizableLinear(in_features=256, out_features=256, bias=True)\n",
       "          )\n",
       "          (norm): LayerNorm((256,), eps=1e-05, elementwise_affine=True)\n",
       "          (dropout): Dropout(p=0, inplace=False)\n",
       "        )\n",
       "        (2): SelfAttentionLayer(\n",
       "          (self_attn): MultiheadAttention(\n",
       "            (out_proj): NonDynamicallyQuantizableLinear(in_features=256, out_features=256, bias=True)\n",
       "          )\n",
       "          (norm): LayerNorm((256,), eps=1e-05, elementwise_affine=True)\n",
       "          (dropout): Dropout(p=0, inplace=False)\n",
       "        )\n",
       "        (3): SelfAttentionLayer(\n",
       "          (self_attn): MultiheadAttention(\n",
       "            (out_proj): NonDynamicallyQuantizableLinear(in_features=256, out_features=256, bias=True)\n",
       "          )\n",
       "          (norm): LayerNorm((256,), eps=1e-05, elementwise_affine=True)\n",
       "          (dropout): Dropout(p=0, inplace=False)\n",
       "        )\n",
       "        (4): SelfAttentionLayer(\n",
       "          (self_attn): MultiheadAttention(\n",
       "            (out_proj): NonDynamicallyQuantizableLinear(in_features=256, out_features=256, bias=True)\n",
       "          )\n",
       "          (norm): LayerNorm((256,), eps=1e-05, elementwise_affine=True)\n",
       "          (dropout): Dropout(p=0, inplace=False)\n",
       "        )\n",
       "        (5): SelfAttentionLayer(\n",
       "          (self_attn): MultiheadAttention(\n",
       "            (out_proj): NonDynamicallyQuantizableLinear(in_features=256, out_features=256, bias=True)\n",
       "          )\n",
       "          (norm): LayerNorm((256,), eps=1e-05, elementwise_affine=True)\n",
       "          (dropout): Dropout(p=0, inplace=False)\n",
       "        )\n",
       "      )\n",
       "      (transformer_cross_attention_layers): ModuleList(\n",
       "        (0): CrossAttentionLayer(\n",
       "          (multihead_attn): MultiheadAttention(\n",
       "            (out_proj): NonDynamicallyQuantizableLinear(in_features=256, out_features=256, bias=True)\n",
       "          )\n",
       "          (norm): LayerNorm((256,), eps=1e-05, elementwise_affine=True)\n",
       "          (dropout): Dropout(p=0, inplace=False)\n",
       "        )\n",
       "        (1): CrossAttentionLayer(\n",
       "          (multihead_attn): MultiheadAttention(\n",
       "            (out_proj): NonDynamicallyQuantizableLinear(in_features=256, out_features=256, bias=True)\n",
       "          )\n",
       "          (norm): LayerNorm((256,), eps=1e-05, elementwise_affine=True)\n",
       "          (dropout): Dropout(p=0, inplace=False)\n",
       "        )\n",
       "        (2): CrossAttentionLayer(\n",
       "          (multihead_attn): MultiheadAttention(\n",
       "            (out_proj): NonDynamicallyQuantizableLinear(in_features=256, out_features=256, bias=True)\n",
       "          )\n",
       "          (norm): LayerNorm((256,), eps=1e-05, elementwise_affine=True)\n",
       "          (dropout): Dropout(p=0, inplace=False)\n",
       "        )\n",
       "        (3): CrossAttentionLayer(\n",
       "          (multihead_attn): MultiheadAttention(\n",
       "            (out_proj): NonDynamicallyQuantizableLinear(in_features=256, out_features=256, bias=True)\n",
       "          )\n",
       "          (norm): LayerNorm((256,), eps=1e-05, elementwise_affine=True)\n",
       "          (dropout): Dropout(p=0, inplace=False)\n",
       "        )\n",
       "        (4): CrossAttentionLayer(\n",
       "          (multihead_attn): MultiheadAttention(\n",
       "            (out_proj): NonDynamicallyQuantizableLinear(in_features=256, out_features=256, bias=True)\n",
       "          )\n",
       "          (norm): LayerNorm((256,), eps=1e-05, elementwise_affine=True)\n",
       "          (dropout): Dropout(p=0, inplace=False)\n",
       "        )\n",
       "        (5): CrossAttentionLayer(\n",
       "          (multihead_attn): MultiheadAttention(\n",
       "            (out_proj): NonDynamicallyQuantizableLinear(in_features=256, out_features=256, bias=True)\n",
       "          )\n",
       "          (norm): LayerNorm((256,), eps=1e-05, elementwise_affine=True)\n",
       "          (dropout): Dropout(p=0, inplace=False)\n",
       "        )\n",
       "      )\n",
       "      (transformer_ffn_layers): ModuleList(\n",
       "        (0): FFNLayer(\n",
       "          (linear1): Linear(in_features=256, out_features=2048, bias=True)\n",
       "          (dropout): Dropout(p=0, inplace=False)\n",
       "          (linear2): Linear(in_features=2048, out_features=256, bias=True)\n",
       "          (norm): LayerNorm((256,), eps=1e-05, elementwise_affine=True)\n",
       "        )\n",
       "        (1): FFNLayer(\n",
       "          (linear1): Linear(in_features=256, out_features=2048, bias=True)\n",
       "          (dropout): Dropout(p=0, inplace=False)\n",
       "          (linear2): Linear(in_features=2048, out_features=256, bias=True)\n",
       "          (norm): LayerNorm((256,), eps=1e-05, elementwise_affine=True)\n",
       "        )\n",
       "        (2): FFNLayer(\n",
       "          (linear1): Linear(in_features=256, out_features=2048, bias=True)\n",
       "          (dropout): Dropout(p=0, inplace=False)\n",
       "          (linear2): Linear(in_features=2048, out_features=256, bias=True)\n",
       "          (norm): LayerNorm((256,), eps=1e-05, elementwise_affine=True)\n",
       "        )\n",
       "        (3): FFNLayer(\n",
       "          (linear1): Linear(in_features=256, out_features=2048, bias=True)\n",
       "          (dropout): Dropout(p=0, inplace=False)\n",
       "          (linear2): Linear(in_features=2048, out_features=256, bias=True)\n",
       "          (norm): LayerNorm((256,), eps=1e-05, elementwise_affine=True)\n",
       "        )\n",
       "        (4): FFNLayer(\n",
       "          (linear1): Linear(in_features=256, out_features=2048, bias=True)\n",
       "          (dropout): Dropout(p=0, inplace=False)\n",
       "          (linear2): Linear(in_features=2048, out_features=256, bias=True)\n",
       "          (norm): LayerNorm((256,), eps=1e-05, elementwise_affine=True)\n",
       "        )\n",
       "        (5): FFNLayer(\n",
       "          (linear1): Linear(in_features=256, out_features=2048, bias=True)\n",
       "          (dropout): Dropout(p=0, inplace=False)\n",
       "          (linear2): Linear(in_features=2048, out_features=256, bias=True)\n",
       "          (norm): LayerNorm((256,), eps=1e-05, elementwise_affine=True)\n",
       "        )\n",
       "      )\n",
       "      (decoder_norm): LayerNorm((256,), eps=1e-05, elementwise_affine=True)\n",
       "      (query_feat): Embedding(100, 256)\n",
       "      (query_embed): Embedding(100, 256)\n",
       "      (level_embed): Embedding(3, 256)\n",
       "      (input_proj): ModuleList(\n",
       "        (0): Sequential()\n",
       "        (1): Sequential()\n",
       "        (2): Sequential()\n",
       "      )\n",
       "      (class_embed): Linear(in_features=256, out_features=2, bias=True)\n",
       "      (mask_embed): MLP(\n",
       "        (layers): ModuleList(\n",
       "          (0): Linear(in_features=256, out_features=256, bias=True)\n",
       "          (1): Linear(in_features=256, out_features=256, bias=True)\n",
       "          (2): Linear(in_features=256, out_features=256, bias=True)\n",
       "        )\n",
       "      )\n",
       "    )\n",
       "  )\n",
       "  (criterion): Criterion SetCriterion\n",
       "      matcher: Matcher HungarianMatcher\n",
       "      cost_class: 1.0\n",
       "      cost_mask: 20.0\n",
       "      cost_dice: 1.0\n",
       "      losses: ['masks', 'labels']\n",
       "      weight_dict: {'loss_mask': 20.0, 'loss_dice': 1.0, 'loss_ce': 1.0, 'loss_mask_0': 20.0, 'loss_dice_0': 1.0, 'loss_ce_0': 1.0, 'loss_mask_1': 20.0, 'loss_dice_1': 1.0, 'loss_ce_1': 1.0, 'loss_mask_2': 20.0, 'loss_dice_2': 1.0, 'loss_ce_2': 1.0, 'loss_mask_3': 20.0, 'loss_dice_3': 1.0, 'loss_ce_3': 1.0, 'loss_mask_4': 20.0, 'loss_dice_4': 1.0, 'loss_ce_4': 1.0}\n",
       "      num_classes: 1\n",
       "      eos_coef: 0.1\n",
       "      num_points: 12544\n",
       "      oversample_ratio: 3.0\n",
       "      importance_sample_ratio: 0.75\n",
       ")"
      ]
     },
     "execution_count": 6,
     "metadata": {},
     "output_type": "execute_result"
    }
   ],
   "source": [
    "from models.mask2former4bev import Mask2Former4BEV\n",
    "\n",
    "model = Mask2Former4BEV(args).cuda()\n",
    "loaded_model = OrderedDict((key.replace('module.', ''), value) for key, value in torch.load(ckpt_path)[\"model\"].items()) \n",
    "\n",
    "model.load_state_dict(loaded_model,strict=True)\n",
    "model.eval()"
   ]
  },
  {
   "cell_type": "code",
   "execution_count": 7,
   "metadata": {},
   "outputs": [
    {
     "name": "stdout",
     "output_type": "stream",
     "text": [
      "is_train False\n",
      "is_train True\n"
     ]
    }
   ],
   "source": [
    "valset = datamodule.val()\n",
    "trainset = datamodule.train()"
   ]
  },
  {
   "cell_type": "code",
   "execution_count": 8,
   "metadata": {},
   "outputs": [],
   "source": [
    "sample = valset[456]"
   ]
  },
  {
   "cell_type": "code",
   "execution_count": 9,
   "metadata": {},
   "outputs": [],
   "source": [
    "out = model([sample],training=False)[0]"
   ]
  },
  {
   "cell_type": "code",
   "execution_count": 43,
   "metadata": {},
   "outputs": [
    {
     "data": {
      "text/plain": [
       "(dict_keys(['pred_masks', 'pred_query', 'pred_logits', 'pred_rt']),\n",
       " torch.Size([100, 2]),\n",
       " torch.Size([100, 200, 200]))"
      ]
     },
     "execution_count": 43,
     "metadata": {},
     "output_type": "execute_result"
    }
   ],
   "source": [
    "out.keys(), out['pred_logits'].shape, out['pred_query'].shape, "
   ]
  },
  {
   "cell_type": "code",
   "execution_count": 167,
   "metadata": {},
   "outputs": [
    {
     "data": {
      "image/png": "[encoded data removed]",
      "text/plain": [
       "<Figure size 1500x600 with 20 Axes>"
      ]
     },
     "metadata": {},
     "output_type": "display_data"
    }
   ],
   "source": [
    "out['pred_logits'][:10,:]                          #, out['pred_masks']\n",
    "\n",
    "import matplotlib.pyplot as plt\n",
    "import numpy as np\n",
    "\n",
    "masks = out['pred_query'][selected_indices].detach().cpu()\n",
    "logits = out[\"pred_logits\"][selected_indices,1]\n",
    "\n",
    "# Plotting\n",
    "col = 5\n",
    "rows = len(selected_indices) // (col*2)\n",
    "fig, axes = plt.subplots(rows, col, figsize=(15, 6))\n",
    "\n",
    "\n",
    "for i in range(rows):\n",
    "    for j in range(col):\n",
    "        idx = i * col + j\n",
    "        axes[i, j].imshow(masks[idx, :, :], cmap='gray')\n",
    "        axes[i, j].set_title(f'Mask {logits[idx]:.2f}')\n",
    "        axes[i, j].axis('off')\n",
    "\n",
    "plt.tight_layout()\n",
    "plt.show()\n"
   ]
  },
  {
   "cell_type": "code",
   "execution_count": 10,
   "metadata": {},
   "outputs": [
    {
     "data": {
      "text/plain": [
       "(tensor([62, 49, 92, 95, 17, 30,  4, 90, 78, 98, 26, 21, 15, 56, 18, 34, 89, 32,\n",
       "         72, 57, 41, 67, 35, 84,  5, 44, 52, 86, 63, 43, 53, 31, 61, 50, 51,  7,\n",
       "         93, 87, 38, 88, 42, 74, 47, 94, 19, 16, 81,  0, 83, 12, 65],\n",
       "        device='cuda:0'),\n",
       " tensor([0.5800, 0.3830, 0.3705, 0.3394, 0.3358, 0.3246, 0.3225, 0.3024, 0.2994,\n",
       "         0.2934, 0.2888, 0.2843, 0.2843, 0.2782, 0.2743, 0.2709, 0.2700, 0.2688,\n",
       "         0.2622, 0.2582, 0.2251, 0.2206, 0.2118, 0.2095, 0.2047, 0.2044, 0.2026,\n",
       "         0.2013, 0.1981, 0.1952, 0.1943, 0.1912, 0.1891, 0.1811, 0.1804, 0.1793,\n",
       "         0.1781, 0.1773, 0.1736, 0.1734, 0.1699, 0.1695, 0.1655, 0.1646, 0.1641,\n",
       "         0.1573, 0.1547, 0.1532, 0.1435, 0.1412, 0.1395], device='cuda:0',\n",
       "        grad_fn=<SliceBackward0>))"
      ]
     },
     "execution_count": 10,
     "metadata": {},
     "output_type": "execute_result"
    }
   ],
   "source": [
    "k = 51\n",
    "values, indices = out['pred_logits'][:, 1].sort(descending=True)\n",
    "indices = indices[:k]\n",
    "indices[:k], values[:k]"
   ]
  },
  {
   "cell_type": "code",
   "execution_count": 118,
   "metadata": {},
   "outputs": [
    {
     "data": {
      "text/plain": [
       "(tensor([ 0,  1,  2,  3,  4,  5,  6,  7,  8,  9, 10, 11, 12, 13, 14, 15, 16, 17,\n",
       "         18, 19, 20, 21, 22, 23, 24, 25, 26, 27, 28, 29, 30, 31, 32, 33, 34, 35,\n",
       "         36, 37, 38, 39, 40, 41, 42, 43, 44, 45, 46, 47, 48, 49, 50, 51, 52, 53,\n",
       "         54, 55, 56, 57, 58, 59, 60, 61, 62, 63, 64, 65, 66, 67, 68, 69, 70, 71,\n",
       "         72, 73, 74, 75, 76, 77, 78, 79, 80, 81, 82, 83, 84, 85, 86, 87, 88, 89,\n",
       "         90, 91, 92, 93, 94, 95, 96, 97, 98, 99], device='cuda:0'),\n",
       " torch.Size([100, 200, 200]))"
      ]
     },
     "execution_count": 118,
     "metadata": {},
     "output_type": "execute_result"
    }
   ],
   "source": [
    "indices = torch.where(out['pred_logits'][:, 1] > 0.01)[0]\n",
    "indices, out['pred_query'][indices].shape"
   ]
  },
  {
   "cell_type": "code",
   "execution_count": 140,
   "metadata": {},
   "outputs": [
    {
     "data": {
      "text/plain": [
       "<matplotlib.image.AxesImage at 0x7fc3102fc280>"
      ]
     },
     "execution_count": 140,
     "metadata": {},
     "output_type": "execute_result"
    },
    {
     "data": {
      "image/png": "[encoded data removed]",
      "text/plain": [
       "<Figure size 640x480 with 1 Axes>"
      ]
     },
     "metadata": {},
     "output_type": "display_data"
    }
   ],
   "source": [
    "topk_query = out['pred_query'][indices].sum(0)\n",
    "topk_query.min(), topk_query.max() \n",
    "plt.imshow(topk_query.detach().cpu())"
   ]
  },
  {
   "cell_type": "code",
   "execution_count": 11,
   "metadata": {},
   "outputs": [
    {
     "name": "stdout",
     "output_type": "stream",
     "text": [
      "tensor(0.5800, device='cuda:0', grad_fn=<SelectBackward0>)\n",
      "tensor(0.3830, device='cuda:0', grad_fn=<SelectBackward0>)\n",
      "tensor(0.3358, device='cuda:0', grad_fn=<SelectBackward0>)\n",
      "tensor(0.3246, device='cuda:0', grad_fn=<SelectBackward0>)\n",
      "tensor(0.3225, device='cuda:0', grad_fn=<SelectBackward0>)\n",
      "tensor(0.2994, device='cuda:0', grad_fn=<SelectBackward0>)\n",
      "tensor(0.2843, device='cuda:0', grad_fn=<SelectBackward0>)\n",
      "tensor(0.2843, device='cuda:0', grad_fn=<SelectBackward0>)\n",
      "tensor(0.2743, device='cuda:0', grad_fn=<SelectBackward0>)\n",
      "tensor(0.2709, device='cuda:0', grad_fn=<SelectBackward0>)\n",
      "tensor(0.2700, device='cuda:0', grad_fn=<SelectBackward0>)\n",
      "tensor(0.2688, device='cuda:0', grad_fn=<SelectBackward0>)\n",
      "tensor(0.2582, device='cuda:0', grad_fn=<SelectBackward0>)\n",
      "tensor(0.2251, device='cuda:0', grad_fn=<SelectBackward0>)\n",
      "tensor(0.2206, device='cuda:0', grad_fn=<SelectBackward0>)\n",
      "tensor(0.2118, device='cuda:0', grad_fn=<SelectBackward0>)\n",
      "tensor(0.2095, device='cuda:0', grad_fn=<SelectBackward0>)\n",
      "tensor(0.2047, device='cuda:0', grad_fn=<SelectBackward0>)\n",
      "tensor(0.2044, device='cuda:0', grad_fn=<SelectBackward0>)\n",
      "tensor(0.1952, device='cuda:0', grad_fn=<SelectBackward0>)\n",
      "tensor(0.1943, device='cuda:0', grad_fn=<SelectBackward0>)\n",
      "tensor(0.1912, device='cuda:0', grad_fn=<SelectBackward0>)\n",
      "tensor(0.1811, device='cuda:0', grad_fn=<SelectBackward0>)\n",
      "tensor(0.1804, device='cuda:0', grad_fn=<SelectBackward0>)\n",
      "tensor(0.1793, device='cuda:0', grad_fn=<SelectBackward0>)\n",
      "tensor(0.1773, device='cuda:0', grad_fn=<SelectBackward0>)\n",
      "tensor(0.1736, device='cuda:0', grad_fn=<SelectBackward0>)\n",
      "tensor(0.1734, device='cuda:0', grad_fn=<SelectBackward0>)\n",
      "tensor(0.1699, device='cuda:0', grad_fn=<SelectBackward0>)\n",
      "tensor(0.1655, device='cuda:0', grad_fn=<SelectBackward0>)\n",
      "tensor(0.1646, device='cuda:0', grad_fn=<SelectBackward0>)\n",
      "tensor(0.1547, device='cuda:0', grad_fn=<SelectBackward0>)\n",
      "tensor(0.1435, device='cuda:0', grad_fn=<SelectBackward0>)\n",
      "tensor(0.1412, device='cuda:0', grad_fn=<SelectBackward0>)\n",
      "tensor(0.1280, device='cuda:0', grad_fn=<SelectBackward0>)\n",
      "tensor(0.1267, device='cuda:0', grad_fn=<SelectBackward0>)\n",
      "tensor(0.1259, device='cuda:0', grad_fn=<SelectBackward0>)\n",
      "tensor(0.1250, device='cuda:0', grad_fn=<SelectBackward0>)\n",
      "tensor(0.1235, device='cuda:0', grad_fn=<SelectBackward0>)\n",
      "tensor(0.1217, device='cuda:0', grad_fn=<SelectBackward0>)\n",
      "tensor(0.1112, device='cuda:0', grad_fn=<SelectBackward0>)\n",
      "tensor(0.1111, device='cuda:0', grad_fn=<SelectBackward0>)\n",
      "tensor(0.1080, device='cuda:0', grad_fn=<SelectBackward0>)\n",
      "tensor(0.0987, device='cuda:0', grad_fn=<SelectBackward0>)\n",
      "tensor(0.0978, device='cuda:0', grad_fn=<SelectBackward0>)\n",
      "tensor(0.0949, device='cuda:0', grad_fn=<SelectBackward0>)\n",
      "tensor(0.0937, device='cuda:0', grad_fn=<SelectBackward0>)\n",
      "tensor(0.0918, device='cuda:0', grad_fn=<SelectBackward0>)\n",
      "tensor(0.0888, device='cuda:0', grad_fn=<SelectBackward0>)\n",
      "tensor(0.0888, device='cuda:0', grad_fn=<SelectBackward0>)\n",
      "tensor(0.0725, device='cuda:0', grad_fn=<SelectBackward0>)\n",
      "tensor(0.0680, device='cuda:0', grad_fn=<SelectBackward0>)\n",
      "tensor(0.0678, device='cuda:0', grad_fn=<SelectBackward0>)\n",
      "tensor(0.0658, device='cuda:0', grad_fn=<SelectBackward0>)\n",
      "tensor(0.0637, device='cuda:0', grad_fn=<SelectBackward0>)\n",
      "tensor(0.0636, device='cuda:0', grad_fn=<SelectBackward0>)\n",
      "tensor(0.0561, device='cuda:0', grad_fn=<SelectBackward0>)\n",
      "tensor(0.0535, device='cuda:0', grad_fn=<SelectBackward0>)\n",
      "tensor(0.0519, device='cuda:0', grad_fn=<SelectBackward0>)\n",
      "tensor(0.0482, device='cuda:0', grad_fn=<SelectBackward0>)\n",
      "tensor(0.0442, device='cuda:0', grad_fn=<SelectBackward0>)\n",
      "tensor(0.0394, device='cuda:0', grad_fn=<SelectBackward0>)\n",
      "tensor(0.0316, device='cuda:0', grad_fn=<SelectBackward0>)\n",
      "tensor(0.0295, device='cuda:0', grad_fn=<SelectBackward0>)\n",
      "tensor(0.0274, device='cuda:0', grad_fn=<SelectBackward0>)\n",
      "tensor(0.0208, device='cuda:0', grad_fn=<SelectBackward0>)\n",
      "tensor(0.0114, device='cuda:0', grad_fn=<SelectBackward0>)\n",
      "tensor(0.0090, device='cuda:0', grad_fn=<SelectBackward0>)\n"
     ]
    }
   ],
   "source": [
    "def nms(masks, scores, threshold):\n",
    "    \"\"\"\n",
    "    Perform Non-Maximum Suppression (NMS) on masks.\n",
    "\n",
    "    Args:\n",
    "    - masks  : tensor of shape (N, X, Z).\n",
    "    - scores : tensor of shape (N,) containing the confidence scores for each query.\n",
    "    - threshold (float): Threshold for deciding whether masks overlap enough to be considered the same object.\n",
    "\n",
    "    Returns:\n",
    "    - indices: Indices of the selected bounding boxes after NMS.\n",
    "    \"\"\"\n",
    "\n",
    "    sorted_indices = torch.argsort(scores, descending=True)\n",
    "    selected_indices = []\n",
    "\n",
    "    while len(sorted_indices) > 0:\n",
    "        # Pick the box with the highest score\n",
    "        current_index = sorted_indices[0]\n",
    "        print(scores[current_index])\n",
    "        selected_indices.append(current_index.item())\n",
    "\n",
    "        # Calculate IoU (Intersection over Union) with all other boxes\n",
    "        current_mask = masks[current_index]\n",
    "        other_masks = masks[sorted_indices[1:]]\n",
    "        ious = calculate_iou(current_mask.unsqueeze(0), other_masks)\n",
    "\n",
    "        # Discard boxes with IoU greater than threshold\n",
    "        filtered_indices = torch.where(ious <= threshold)[0]\n",
    "        sorted_indices = sorted_indices[1:][filtered_indices]\n",
    "\n",
    "    return torch.tensor(selected_indices)\n",
    "\n",
    "def calculate_iou(mask, masks):\n",
    "    \"\"\"\n",
    "    Calculate Intersection over Union (IoU) between a mask and a batch of masks.\n",
    "\n",
    "    Args:\n",
    "    - mask1 (torch.Tensor): Binary mask of shape (1, H, W).\n",
    "    - masks (torch.Tensor): Batch of binary masks of shape (N, H, W).\n",
    "\n",
    "    Returns:\n",
    "    - torch.Tensor: IoU between mask1 and each mask in the batch, shape (N,).\n",
    "    \"\"\"\n",
    "\n",
    "    # Convert the masks to dtype torch.bool in case they are not already\n",
    "    mask = mask.bool()\n",
    "    masks = masks.bool()\n",
    "\n",
    "    # Calculate intersection and union\n",
    "    intersection = (mask & masks).float().sum(dim=(1, 2))\n",
    "    union = (mask | masks).float().sum(dim=(1, 2))\n",
    "\n",
    "    # Calculate IoU\n",
    "    iou = intersection / union\n",
    "    return iou\n",
    "\n",
    "\n",
    "boxes = (out['pred_query'] > 0.5)\n",
    "scores = out['pred_logits'][:, 1]\n",
    "\n",
    "threshold = 0.8\n",
    "\n",
    "# Perform NMS\n",
    "selected_indices = nms(boxes, scores, threshold)"
   ]
  },
  {
   "cell_type": "code",
   "execution_count": 19,
   "metadata": {},
   "outputs": [
    {
     "data": {
      "text/plain": [
       "tensor([[False, False, False,  ..., False, False, False],\n",
       "        [False, False, False,  ..., False, False, False],\n",
       "        [False, False, False,  ..., False, False, False],\n",
       "        ...,\n",
       "        [False, False, False,  ..., False, False, False],\n",
       "        [False, False, False,  ..., False, False, False],\n",
       "        [False, False, False,  ..., False, False, False]], device='cuda:0')"
      ]
     },
     "execution_count": 19,
     "metadata": {},
     "output_type": "execute_result"
    }
   ],
   "source": [
    "out['pred_query'][selected_indices,1] > 0.1"
   ]
  },
  {
   "cell_type": "code",
   "execution_count": 20,
   "metadata": {},
   "outputs": [
    {
     "data": {
      "text/plain": [
       "<matplotlib.image.AxesImage at 0x7fe11883db20>"
      ]
     },
     "execution_count": 20,
     "metadata": {},
     "output_type": "execute_result"
    },
    {
     "data": {
      "image/png": "[encoded data removed]",
      "text/plain": [
       "<Figure size 640x480 with 1 Axes>"
      ]
     },
     "metadata": {},
     "output_type": "display_data"
    }
   ],
   "source": [
    "nms_query = out['pred_query'][selected_indices].sum(0) > 0.1\n",
    "plt.imshow(nms_query.detach().cpu())"
   ]
  },
  {
   "cell_type": "code",
   "execution_count": 14,
   "metadata": {},
   "outputs": [
    {
     "data": {
      "text/plain": [
       "tensor([[8.0248e-08, 9.3207e-08, 4.9751e-08,  ..., 3.6727e-08, 7.8751e-08,\n",
       "         1.0869e-07],\n",
       "        [6.6092e-09, 6.5309e-08, 2.8646e-08,  ..., 2.4641e-08, 1.5677e-07,\n",
       "         6.2516e-08],\n",
       "        [7.6233e-09, 5.4159e-08, 2.5847e-08,  ..., 2.1155e-08, 2.5952e-07,\n",
       "         1.4305e-07],\n",
       "        ...,\n",
       "        [7.6125e-09, 2.3662e-07, 1.5719e-06,  ..., 5.9447e-12, 7.7167e-10,\n",
       "         9.1645e-10],\n",
       "        [7.3321e-09, 2.8917e-07, 2.4119e-06,  ..., 3.7985e-11, 2.1207e-09,\n",
       "         5.0568e-09],\n",
       "        [3.6456e-07, 1.9554e-07, 8.5852e-07,  ..., 2.2067e-10, 3.2602e-09,\n",
       "         1.8084e-07]], device='cuda:0', grad_fn=<SelectBackward0>)"
      ]
     },
     "execution_count": 14,
     "metadata": {},
     "output_type": "execute_result"
    }
   ],
   "source": [
    "semseg = torch.einsum(\"qc,qhw->chw\", out['pred_logits'][selected_indices], out['pred_query'][selected_indices])    # B, 2, H, W\n",
    "semseg = semseg[1]\n",
    "semseg"
   ]
  },
  {
   "cell_type": "code",
   "execution_count": 16,
   "metadata": {},
   "outputs": [
    {
     "data": {
      "text/plain": [
       "<matplotlib.image.AxesImage at 0x7fe1188f0310>"
      ]
     },
     "execution_count": 16,
     "metadata": {},
     "output_type": "execute_result"
    },
    {
     "data": {
      "image/png": "[encoded data removed]",
      "text/plain": [
       "<Figure size 640x480 with 1 Axes>"
      ]
     },
     "metadata": {},
     "output_type": "display_data"
    }
   ],
   "source": [
    "pred = semseg > 0.2 #.sigmoid()\n",
    "plt.imshow(pred.detach().cpu().numpy(), cmap='binary')"
   ]
  },
  {
   "cell_type": "code",
   "execution_count": 146,
   "metadata": {},
   "outputs": [
    {
     "data": {
      "text/plain": [
       "(tensor(2.4220e-14, device='cuda:0', grad_fn=<MinBackward1>),\n",
       " tensor(3.4675, device='cuda:0', grad_fn=<MaxBackward1>))"
      ]
     },
     "execution_count": 146,
     "metadata": {},
     "output_type": "execute_result"
    }
   ],
   "source": [
    "nms_query.min(), nms_query.max() "
   ]
  },
  {
   "cell_type": "code",
   "execution_count": 14,
   "metadata": {},
   "outputs": [],
   "source": [
    "mask_cls = out['pred_logits']\n",
    "mask_pred = out['pred_query']"
   ]
  },
  {
   "cell_type": "code",
   "execution_count": 16,
   "metadata": {},
   "outputs": [],
   "source": [
    "from torch.nn import functional as F\n",
    "scores, labels = F.softmax(mask_cls, dim=-1).max(-1)\n",
    "mask_pred = mask_pred\n",
    "\n",
    "#print(labels.ne(1))\n",
    "keep = labels.ne(1) & (scores > 0.2)\n",
    "cur_scores = scores[keep]\n",
    "cur_classes = labels[keep]\n",
    "cur_masks = mask_pred[keep]\n",
    "cur_mask_cls = mask_cls[keep]\n",
    "cur_mask_cls = cur_mask_cls[:, :-1]\n",
    "\n",
    "cur_prob_masks = cur_scores.view(-1, 1, 1) * cur_masks\n",
    "\n",
    "\n",
    "h, w = cur_masks.shape[-2:]\n",
    "panoptic_seg = torch.zeros((h, w), dtype=torch.int32, device=cur_masks.device)\n",
    "segments_info = []\n",
    "\n",
    "# take argmax\n",
    "cur_mask_ids = cur_prob_masks.argmax(0)\n",
    "\n",
    "for k in range(cur_classes.shape[0]):\n",
    "    mask_area = (cur_mask_ids == k).sum().item()   # query's region\n",
    "    original_area = (cur_masks[k] >= 0.5).sum().item()\n",
    "    mask = (cur_mask_ids == k) & (cur_masks[k] >= 0.5)\n",
    "    \n",
    "    #print(mask_area, original_area)\n",
    "\n",
    "    if mask_area > 0 and original_area > 0 and mask.sum().item() > 0:\n",
    "        if mask_area / original_area < 0.1:\n",
    "            continue\n",
    "\n",
    "        panoptic_seg[mask] = 1\n"
   ]
  },
  {
   "cell_type": "code",
   "execution_count": 127,
   "metadata": {},
   "outputs": [
    {
     "data": {
      "text/plain": [
       "<matplotlib.image.AxesImage at 0x7fb981aed280>"
      ]
     },
     "execution_count": 127,
     "metadata": {},
     "output_type": "execute_result"
    },
    {
     "data": {
      "image/png": "[encoded data removed]",
      "text/plain": [
       "<Figure size 640x480 with 1 Axes>"
      ]
     },
     "metadata": {},
     "output_type": "display_data"
    }
   ],
   "source": [
    "pred = out['pred_query'][0] > 0.5 #+ out['pred_query'][6] #.sigmoid()\n",
    "plt.imshow(pred.detach().cpu().numpy(), cmap='binary')"
   ]
  },
  {
   "cell_type": "code",
   "execution_count": 49,
   "metadata": {},
   "outputs": [
    {
     "data": {
      "text/plain": [
       "tensor([[1.8315e-10, 1.0569e-10, 3.5408e-11,  ..., 1.7879e-10, 8.1250e-10,\n",
       "         2.5548e-09],\n",
       "        [2.7586e-12, 2.0661e-10, 4.2104e-11,  ..., 9.7748e-10, 3.9006e-09,\n",
       "         4.0803e-10],\n",
       "        [2.7194e-11, 8.1538e-10, 2.0893e-10,  ..., 4.2467e-10, 3.7754e-09,\n",
       "         1.1824e-09],\n",
       "        ...,\n",
       "        [3.5869e-08, 3.6269e-07, 3.2721e-07,  ..., 1.6042e-07, 1.4825e-08,\n",
       "         2.7553e-07],\n",
       "        [4.3827e-08, 5.6158e-07, 1.2738e-06,  ..., 2.3853e-08, 2.6990e-09,\n",
       "         1.4360e-07],\n",
       "        [2.6790e-07, 4.8233e-08, 9.5888e-08,  ..., 2.0530e-07, 8.9018e-08,\n",
       "         3.4134e-06]], device='cuda:0', grad_fn=<SelectBackward0>)"
      ]
     },
     "execution_count": 49,
     "metadata": {},
     "output_type": "execute_result"
    }
   ],
   "source": [
    "semseg = torch.einsum(\"qc,qhw->chw\", out['pred_logits'], out['pred_query'])    # B, 2, H, W\n",
    "semseg = semseg[1]\n",
    "semseg #out['pred_logits'],   "
   ]
  },
  {
   "cell_type": "code",
   "execution_count": 177,
   "metadata": {},
   "outputs": [
    {
     "data": {
      "text/plain": [
       "<matplotlib.image.AxesImage at 0x7fc29c0fbb50>"
      ]
     },
     "execution_count": 177,
     "metadata": {},
     "output_type": "execute_result"
    },
    {
     "data": {
      "image/png": "[encoded data removed]",
      "text/plain": [
       "<Figure size 640x480 with 1 Axes>"
      ]
     },
     "metadata": {},
     "output_type": "display_data"
    }
   ],
   "source": [
    "pred = out['pred_masks'][0] > 0.5 #.sigmoid()\n",
    "plt.imshow(pred.detach().cpu().numpy(), cmap='binary')"
   ]
  },
  {
   "cell_type": "code",
   "execution_count": 160,
   "metadata": {},
   "outputs": [
    {
     "data": {
      "text/plain": [
       "<matplotlib.image.AxesImage at 0x7fc295857160>"
      ]
     },
     "execution_count": 160,
     "metadata": {},
     "output_type": "execute_result"
    },
    {
     "data": {
      "image/png": "[encoded data removed]",
      "text/plain": [
       "<Figure size 640x480 with 1 Axes>"
      ]
     },
     "metadata": {},
     "output_type": "display_data"
    }
   ],
   "source": [
    "plt.imshow(sample['gt_masks'][0], cmap='viridis')"
   ]
  },
  {
   "cell_type": "code",
   "execution_count": 32,
   "metadata": {},
   "outputs": [
    {
     "data": {
      "text/plain": [
       "(tensor(24.8112), tensor(25.0456))"
      ]
     },
     "execution_count": 32,
     "metadata": {},
     "output_type": "execute_result"
    }
   ],
   "source": [
    "def miou(pred, gt, valid):\n",
    "        \n",
    "    pred_round = (pred > 0.5).float()  \n",
    "    if valid is None:\n",
    "        valid = torch.ones_like(gt)\n",
    "\n",
    "    intersection = (pred_round*gt*valid).sum(dim=[1,2])\n",
    "    union = ((pred_round+gt)*valid).clamp(0,1).sum(dim=[1,2])\n",
    "    iou = (intersection/(1e-4 + union)).mean()\n",
    "    \n",
    "    return iou*100\n",
    "\n",
    "miou(out['pred_masks'][0].detach().cpu(), sample['gt_masks'], sample['gt_valid']), miou(semseg.detach().cpu(), sample['gt_masks'], sample['gt_valid'])"
   ]
  },
  {
   "cell_type": "code",
   "execution_count": 149,
   "metadata": {},
   "outputs": [
    {
     "name": "stdout",
     "output_type": "stream",
     "text": [
      "tensor(47.2344)\n"
     ]
    },
    {
     "data": {
      "image/png": "[encoded data removed]",
      "text/plain": [
       "<Figure size 1000x1000 with 1 Axes>"
      ]
     },
     "metadata": {},
     "output_type": "display_data"
    }
   ],
   "source": [
    "idx = 0\n",
    "batch = valset[idx]\n",
    "preds = model([batch], training=False)  # a dictionary of losses\n",
    "our_pred = nms_query.detach().cpu() # (preds[0]['pred_masks']> 0.5).detach().cpu()\n",
    "\n",
    "import matplotlib.pyplot as plt\n",
    "import numpy as np\n",
    "\n",
    "# Sample binary masks\n",
    "ground_truth = (batch['gt_masks'].cpu()*batch['gt_valid'].cpu())[0]\n",
    "model_pred_1 = our_pred#[0]\n",
    "\n",
    "print(miou(preds[0]['pred_masks'].detach().cpu(), batch['gt_masks'], batch['gt_valid']))\n",
    "\n",
    "# Creating an empty image with 3 channels (RGB)\n",
    "composite_image = np.zeros((ground_truth.shape[0], ground_truth.shape[1], 3), dtype=np.uint8)\n",
    "\n",
    "# Assigning each mask to a different channel (R, G, B)\n",
    "composite_image[:, :, 0] = ground_truth * 255  # Red channel for ground truth\n",
    "composite_image[:, :, 1] = model_pred_1 * 255  # Green channel for first model prediction\n",
    "\n",
    "# Display the composite image\n",
    "plt.figure(figsize=(10, 10))\n",
    "plt.imshow(composite_image)\n",
    "plt.title('Composite Image of Masks')\n",
    "plt.axis('off')  # Hide axis\n",
    "plt.show()"
   ]
  },
  {
   "cell_type": "code",
   "execution_count": null,
   "metadata": {},
   "outputs": [],
   "source": [
    "plt.imshow((out['pred_query'][0].sigmoid() > 0.5).detach().cpu())"
   ]
  },
  {
   "cell_type": "code",
   "execution_count": null,
   "metadata": {},
   "outputs": [],
   "source": [
    "plt.imshow(torch.argmax(out['pred_query'].sigmoid(), dim=0).detach().cpu(), cmap=\"jet\")"
   ]
  },
  {
   "cell_type": "code",
   "execution_count": null,
   "metadata": {
    "scrolled": false
   },
   "outputs": [],
   "source": [
    "for j in range(50):\n",
    "    z = out['pred_query'].sigmoid()[j] > 0.5\n",
    "    if z.sum() > 0:\n",
    "        plt.imshow(z.detach().cpu(), cmap=\"jet\")\n",
    "        plt.show()"
   ]
  },
  {
   "cell_type": "code",
   "execution_count": null,
   "metadata": {},
   "outputs": [],
   "source": []
  }
 ],
 "metadata": {
  "kernelspec": {
   "display_name": "mask2former",
   "language": "python",
   "name": "mask2former"
  },
  "language_info": {
   "codemirror_mode": {
    "name": "ipython",
    "version": 3
   },
   "file_extension": ".py",
   "mimetype": "text/x-python",
   "name": "python",
   "nbconvert_exporter": "python",
   "pygments_lexer": "ipython3",
   "version": "3.8.18"
  }
 },
 "nbformat": 4,
 "nbformat_minor": 2
}
