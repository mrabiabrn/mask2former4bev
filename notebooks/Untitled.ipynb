{
 "cells": [
  {
   "cell_type": "code",
   "execution_count": 2,
   "id": "f69ef38d",
   "metadata": {},
   "outputs": [
    {
     "name": "stdout",
     "output_type": "stream",
     "text": [
      "torch.Size([5, 2])\n",
      "tensor([[3, 0],\n",
      "        [2, 5],\n",
      "        [2, 3],\n",
      "        [3, 1],\n",
      "        [0, 2]])\n"
     ]
    }
   ],
   "source": [
    "from scipy.optimize import linear_sum_assignment\n",
    "import numpy as np\n",
    "import torch\n",
    "\n",
    "C = torch.tensor([[3, 0], [2,/home/mbarin/remote/hpc_run/cross_view_sam/checkpoints/backbone:res101-simplebev_cls:0_pts:12544_9k/best.pt 5], [2, 3], [3, 1], [0, 2]])\n",
    "print(C.shape)\n",
    "print(C)"
   ]
  },
  {
   "cell_type": "code",
   "execution_count": 4,
   "id": "c2eec929",
   "metadata": {},
   "outputs": [
    {
     "name": "stdout",
     "output_type": "stream",
     "text": [
      "[0 4]\n",
      "[1 0]\n"
     ]
    }
   ],
   "source": [
    "row_ind, col_ind = linear_sum_assignment(C)\n",
    "print(row_ind)\n",
    "print(col_ind)\n"
   ]
  },
  {
   "cell_type": "code",
   "execution_count": 5,
   "id": "7a814ca2",
   "metadata": {},
   "outputs": [
    {
     "ename": "RuntimeError",
     "evalue": "torch.cat(): expected a non-empty list of Tensors",
     "output_type": "error",
     "traceback": [
      "\u001b[0;31m---------------------------------------------------------------------------\u001b[0m",
      "\u001b[0;31mRuntimeError\u001b[0m                              Traceback (most recent call last)",
      "Cell \u001b[0;32mIn[5], line 1\u001b[0m\n\u001b[0;32m----> 1\u001b[0m \u001b[43mtorch\u001b[49m\u001b[38;5;241;43m.\u001b[39;49m\u001b[43mcat\u001b[49m\u001b[43m(\u001b[49m\u001b[43m[\u001b[49m\u001b[43m]\u001b[49m\u001b[43m)\u001b[49m\n",
      "\u001b[0;31mRuntimeError\u001b[0m: torch.cat(): expected a non-empty list of Tensors"
     ]
    }
   ],
   "source": [
    "torch.cat([])"
   ]
  }
 ],
 "metadata": {
  "kernelspec": {
   "display_name": "mask2former",
   "language": "python",
   "name": "mask2former"
  },
  "language_info": {
   "codemirror_mode": {
    "name": "ipython",
    "version": 3
   },
   "file_extension": ".py",
   "mimetype": "text/x-python",
   "name": "python",
   "nbconvert_exporter": "python",
   "pygments_lexer": "ipython3",
   "version": "3.8.18"
  }
 },
 "nbformat": 4,
 "nbformat_minor": 5
}
