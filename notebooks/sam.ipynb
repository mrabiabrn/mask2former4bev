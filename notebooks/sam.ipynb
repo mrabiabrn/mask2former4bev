{
 "cells": [
  {
   "cell_type": "code",
   "execution_count": 1,
   "id": "2a6eb568",
   "metadata": {},
   "outputs": [],
   "source": [
    "#%load_ext autoreload\n",
    "#%autoreload 2"
   ]
  },
  {
   "cell_type": "code",
   "execution_count": 2,
   "id": "a5b212a8",
   "metadata": {},
   "outputs": [
    {
     "name": "stderr",
     "output_type": "stream",
     "text": [
      "/kuacc/users/mbarin22/.conda/envs/mask2former/lib/python3.8/site-packages/tqdm/auto.py:21: TqdmWarning: IProgress not found. Please update jupyter and ipywidgets. See https://ipywidgets.readthedocs.io/en/stable/user_install.html\n",
      "  from .autonotebook import tqdm as notebook_tqdm\n"
     ]
    }
   ],
   "source": [
    "import os\n",
    "import sys\n",
    "import pickle \n",
    "\n",
    "import torch\n",
    "import torch.nn as nn\n",
    "import torch.nn.functional as F\n",
    "import torchvision\n",
    "import numpy as np\n",
    "\n",
    "import matplotlib.pyplot as plt\n",
    "\n",
    "sys.path.append('..')"
   ]
  },
  {
   "cell_type": "code",
   "execution_count": 3,
   "id": "6ecccce4",
   "metadata": {},
   "outputs": [],
   "source": [
    "from PIL import Image\n",
    "from lang_sam import LangSAM"
   ]
  },
  {
   "cell_type": "code",
   "execution_count": 7,
   "id": "8e732c29",
   "metadata": {},
   "outputs": [],
   "source": [
    "class Arguments:\n",
    "\n",
    "    def __init__(self):\n",
    "        \n",
    "        self.project = 'mask2former4bev'\n",
    "        self.model_name = 'mask2former4bev'\n",
    "        self.dataset_path = '/datasets/nuscenes'\n",
    "        self.version = 'trainval'\n",
    "\n",
    "        # write all the parameters like above\n",
    "        self.res_scale = 1\n",
    "        self.H = 1600\n",
    "        self.W = 900\n",
    "        self.rand_crop_and_resize = 0\n",
    "        \n",
    "        self.resize_to = [224,400]\n",
    "        self.crop_offset = 0\n",
    "        self.random_flip = 0\n",
    "        self.resize_lim = [1.0, 1.0]\n",
    "        self.cams = ['CAM_FRONT_LEFT', 'CAM_FRONT', 'CAM_FRONT_RIGHT', 'CAM_BACK_LEFT', 'CAM_BACK', 'CAM_BACK_RIGHT']\n",
    "        self.ncams = 6\n",
    "\n",
    "        self.do_shuffle_cams = 0\n",
    "        self.refcam_id = 1\n",
    "\n",
    "        self.voxel_size = [200, 8, 200]\n",
    "        self.bounds = [-50, 50, -5, 5, -50, 50]\n",
    "        \n",
    "        self.num_queries = 100\n",
    "        self.get_sem_masks = 0\n",
    "        \n",
    "        \n",
    "args = Arguments()"
   ]
  },
  {
   "cell_type": "code",
   "execution_count": 8,
   "id": "5c4138bf",
   "metadata": {},
   "outputs": [
    {
     "name": "stdout",
     "output_type": "stream",
     "text": [
      "Loading NuScenes version trainval from /datasets/nuscenes\n",
      "Done loading NuScenes version trainval\n"
     ]
    }
   ],
   "source": [
    "from dataset import NuScenesDatasetWrapper\n",
    "\n",
    "datamodule = NuScenesDatasetWrapper(args)"
   ]
  },
  {
   "cell_type": "code",
   "execution_count": 9,
   "id": "9b562b5f",
   "metadata": {},
   "outputs": [
    {
     "name": "stdout",
     "output_type": "stream",
     "text": [
      "is_train False\n",
      "is_train True\n"
     ]
    }
   ],
   "source": [
    "valset = datamodule.val()\n",
    "trainset = datamodule.train()"
   ]
  },
  {
   "cell_type": "code",
   "execution_count": 10,
   "id": "50058cdf",
   "metadata": {},
   "outputs": [],
   "source": [
    "sample  = valset[0]"
   ]
  },
  {
   "cell_type": "code",
   "execution_count": 11,
   "id": "1b2fd36b",
   "metadata": {},
   "outputs": [
    {
     "data": {
      "text/plain": [
       "torch.Size([6, 3, 224, 400])"
      ]
     },
     "execution_count": 11,
     "metadata": {},
     "output_type": "execute_result"
    }
   ],
   "source": [
    "sample['images'].shape"
   ]
  },
  {
   "cell_type": "code",
   "execution_count": 17,
   "id": "e9baebdd",
   "metadata": {},
   "outputs": [
    {
     "name": "stderr",
     "output_type": "stream",
     "text": [
      "/kuacc/users/mbarin22/.conda/envs/mask2former/lib/python3.8/site-packages/torch/functional.py:504: UserWarning: torch.meshgrid: in an upcoming release, it will be required to pass the indexing argument. (Triggered internally at /opt/conda/conda-bld/pytorch_1666642975312/work/aten/src/ATen/native/TensorShape.cpp:3190.)\n",
      "  return _VF.meshgrid(tensors, **kwargs)  # type: ignore[attr-defined]\n"
     ]
    },
    {
     "name": "stdout",
     "output_type": "stream",
     "text": [
      "final text_encoder_type: bert-base-uncased\n"
     ]
    },
    {
     "name": "stderr",
     "output_type": "stream",
     "text": [
      "Downloading tokenizer_config.json: 100%|████████████████████████████████████████████████████████████████████████████████████████████████████████████████████████████████| 48.0/48.0 [00:00<00:00, 20.1kB/s]\n"
     ]
    },
    {
     "name": "stdout",
     "output_type": "stream",
     "text": [
      "Model loaded from /kuacc/users/mbarin22/.cache/huggingface/hub/models--ShilongLiu--GroundingDINO/snapshots/a94c9b567a2a374598f05c584e96798a170c56fb/groundingdino_swinb_cogcoor.pth \n",
      " => _IncompatibleKeys(missing_keys=[], unexpected_keys=['label_enc.weight', 'bert.embeddings.position_ids'])\n"
     ]
    }
   ],
   "source": [
    "langsam = LangSAM()"
   ]
  },
  {
   "cell_type": "code",
   "execution_count": 45,
   "id": "b08ada45",
   "metadata": {},
   "outputs": [
    {
     "data": {
      "text/plain": [
       "device(type='cuda')"
      ]
     },
     "execution_count": 45,
     "metadata": {},
     "output_type": "execute_result"
    }
   ],
   "source": [
    "langsam.device"
   ]
  },
  {
   "cell_type": "code",
   "execution_count": null,
   "id": "42f2ca50",
   "metadata": {},
   "outputs": [],
   "source": [
    "from torchvision.transforms.functional import to_pil_image\n",
    "image_pil = to_pil_image(sample['images'][0], 'RGB')\n",
    "\n",
    "text_prompt = \"vehicle\"\n",
    "masks = langsam.predict(image_pil, text_prompt)[0]"
   ]
  },
  {
   "cell_type": "code",
   "execution_count": 43,
   "id": "f610214c",
   "metadata": {},
   "outputs": [
    {
     "data": {
      "text/plain": [
       "<matplotlib.image.AxesImage at 0x7f510dc9c0a0>"
      ]
     },
     "execution_count": 43,
     "metadata": {},
     "output_type": "execute_result"
    },
    {
     "data": {
      "image/png": "[encoded data removed]",
      "text/plain": [
       "<Figure size 640x480 with 1 Axes>"
      ]
     },
     "metadata": {},
     "output_type": "display_data"
    }
   ],
   "source": [
    "plt.imshow(cam_masks)"
   ]
  },
  {
   "cell_type": "code",
   "execution_count": 42,
   "id": "01816e6d",
   "metadata": {},
   "outputs": [],
   "source": [
    "cam_masks = masks.sum(0)>0\n",
    "np.savez(f'cam_masks_0.npz', masks=cam_masks) \n",
    "\n",
    "cam_masks = np.load(f'cam_masks_0.npz')['masks']"
   ]
  },
  {
   "cell_type": "code",
   "execution_count": null,
   "id": "a0dceeb4",
   "metadata": {},
   "outputs": [],
   "source": [
    "import torch\n",
    "from PIL import Image\n",
    "from torchvision import transforms\n",
    "\n",
    "def prepare_image(sem_mask):\n",
    "    \n",
    "    transform = transforms.Compose([\n",
    "        transforms.Grayscale(num_output_channels=3),  # Convert grayscale to pseudo-RGB\n",
    "        transforms.Normalize(mean=[0.485, 0.456, 0.406], std=[0.229, 0.224, 0.225])  # Normalize like ImageNet\n",
    "    ])\n",
    "    img = transform(img)\n",
    "    return img.unsqueeze(0)  # Add batch dimension\n"
   ]
  },
  {
   "cell_type": "code",
   "execution_count": 26,
   "id": "3f274676",
   "metadata": {},
   "outputs": [
    {
     "data": {
      "text/plain": [
       "(448, 800)"
      ]
     },
     "execution_count": 26,
     "metadata": {},
     "output_type": "execute_result"
    }
   ],
   "source": [
    "cam_masks = np.load(f'cam_masks_0.npz')['masks']\n",
    "cam_masks.shape"
   ]
  },
  {
   "cell_type": "code",
   "execution_count": 21,
   "id": "6fce31df",
   "metadata": {},
   "outputs": [],
   "source": [
    "from torchvision import transforms\n",
    "\n",
    "transform = transforms.Compose([\n",
    "            transforms.Grayscale(num_output_channels=3),  # Convert grayscale to pseudo-RGB\n",
    "        ])\n",
    "img = transform(cam_masks.unsqueeze(0).unsqueeze(0))\n",
    "        "
   ]
  },
  {
   "cell_type": "code",
   "execution_count": 27,
   "id": "fd4674ad",
   "metadata": {},
   "outputs": [
    {
     "ename": "AttributeError",
     "evalue": "'numpy.ndarray' object has no attribute 'unsqueeze'",
     "output_type": "error",
     "traceback": [
      "\u001b[0;31m---------------------------------------------------------------------------\u001b[0m",
      "\u001b[0;31mAttributeError\u001b[0m                            Traceback (most recent call last)",
      "Cell \u001b[0;32mIn[27], line 2\u001b[0m\n\u001b[1;32m      1\u001b[0m \u001b[38;5;28;01mfrom\u001b[39;00m \u001b[38;5;21;01mtorchvision\u001b[39;00m\u001b[38;5;21;01m.\u001b[39;00m\u001b[38;5;21;01mtransforms\u001b[39;00m\u001b[38;5;21;01m.\u001b[39;00m\u001b[38;5;21;01mfunctional\u001b[39;00m \u001b[38;5;28;01mimport\u001b[39;00m to_pil_image\n\u001b[0;32m----> 2\u001b[0m image_pil \u001b[38;5;241m=\u001b[39m to_pil_image(\u001b[43mcam_masks\u001b[49m\u001b[38;5;241;43m.\u001b[39;49m\u001b[43munsqueeze\u001b[49m(\u001b[38;5;241m0\u001b[39m), \u001b[38;5;124m'\u001b[39m\u001b[38;5;124mRGB\u001b[39m\u001b[38;5;124m'\u001b[39m)\n",
      "\u001b[0;31mAttributeError\u001b[0m: 'numpy.ndarray' object has no attribute 'unsqueeze'"
     ]
    }
   ],
   "source": [
    "from torchvision.transforms.functional import to_pil_image\n",
    "image_pil = to_pil_image(cam_masks.unsqueeze(0), 'RGB')"
   ]
  },
  {
   "cell_type": "code",
   "execution_count": null,
   "id": "a22df0d3",
   "metadata": {},
   "outputs": [],
   "source": []
  }
 ],
 "metadata": {
  "kernelspec": {
   "display_name": "mask2former",
   "language": "python",
   "name": "mask2former"
  },
  "language_info": {
   "codemirror_mode": {
    "name": "ipython",
    "version": 3
   },
   "file_extension": ".py",
   "mimetype": "text/x-python",
   "name": "python",
   "nbconvert_exporter": "python",
   "pygments_lexer": "ipython3",
   "version": "3.8.18"
  }
 },
 "nbformat": 4,
 "nbformat_minor": 5
}
